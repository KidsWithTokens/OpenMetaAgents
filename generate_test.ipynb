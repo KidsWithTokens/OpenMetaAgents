{
 "cells": [
  {
   "cell_type": "code",
   "execution_count": 1,
   "metadata": {},
   "outputs": [
    {
     "name": "stderr",
     "output_type": "stream",
     "text": [
      "/mnt/iMVR/junde/miniconda3/lib/python3.11/site-packages/tqdm/auto.py:21: TqdmWarning: IProgress not found. Please update jupyter and ipywidgets. See https://ipywidgets.readthedocs.io/en/stable/user_install.html\n",
      "  from .autonotebook import tqdm as notebook_tqdm\n"
     ]
    }
   ],
   "source": [
    "import os\n",
    "\n",
    "os.environ[\"CUDA_VISIBLE_DEVICES\"] = \"0,1\"\n",
    "os.environ['TRANSFORMERS_CACHE'] = '/mnt/iMVR/junde/.cache/huggingface/hub'\n",
    "\n",
    "from langchain.llms import HuggingFacePipeline\n",
    "import networkx as nx\n",
    "from transformers import pipeline\n",
    "import re\n",
    "from creat import creat_world\n",
    "from prompt import *\n",
    "from server import logger\n",
    "from datetime import datetime\n"
   ]
  },
  {
   "cell_type": "code",
   "execution_count": 2,
   "metadata": {},
   "outputs": [
    {
     "name": "stderr",
     "output_type": "stream",
     "text": [
      "Loading checkpoint shards: 100%|██████████| 2/2 [00:10<00:00,  5.00s/it]\n"
     ]
    }
   ],
   "source": [
    "pipeline = pipeline(model=\"meta-llama/Llama-2-7b-chat-hf\", device_map=\"auto\")\n",
    "model = HuggingFacePipeline(pipeline=pipeline, model_kwargs={'temperature':0.7})"
   ]
  },
  {
   "cell_type": "code",
   "execution_count": 3,
   "metadata": {},
   "outputs": [
    {
     "name": "stderr",
     "output_type": "stream",
     "text": [
      "`embedding_function` is expected to be an Embeddings object, support for passing in a function will soon be removed.\n",
      "`embedding_function` is expected to be an Embeddings object, support for passing in a function will soon be removed.\n",
      "`embedding_function` is expected to be an Embeddings object, support for passing in a function will soon be removed.\n",
      "`embedding_function` is expected to be an Embeddings object, support for passing in a function will soon be removed.\n",
      "`embedding_function` is expected to be an Embeddings object, support for passing in a function will soon be removed.\n",
      "`embedding_function` is expected to be an Embeddings object, support for passing in a function will soon be removed.\n",
      "`embedding_function` is expected to be an Embeddings object, support for passing in a function will soon be removed.\n",
      "`embedding_function` is expected to be an Embeddings object, support for passing in a function will soon be removed.\n",
      "`embedding_function` is expected to be an Embeddings object, support for passing in a function will soon be removed.\n",
      "`embedding_function` is expected to be an Embeddings object, support for passing in a function will soon be removed.\n"
     ]
    }
   ],
   "source": [
    "locations, agents = creat_world(model)"
   ]
  },
  {
   "cell_type": "code",
   "execution_count": 4,
   "metadata": {},
   "outputs": [],
   "source": [
    "# init\n",
    "action_results = {}\n",
    "back_know = []\n",
    "for i in town_people.keys(): # generate bk knowledge for everyone\n",
    "  back_know.append(i+': '+ agents[i].get_summary(force_refresh=False))\n",
    "  # logger.log(\"get sum success\")\n",
    "# bk = [x for x in back_know]\n",
    "for i in town_people.keys(): # add to people mem\n",
    "  # others = [x for x in town_people.keys() if x != i]\n",
    "  # others_des = [x for x in back_know if i+': ' not in x]\n",
    "  observation = '. '.join(back_know)\n",
    "  mem = agents[i].convert_to_first(observation)\n",
    "  agents[i].memory.add_memory(mem)\n",
    "  # logger.log(\"mem add success\")\n",
    "  action_results[i] = i + ' is ' + town_people[i][\"status\"]"
   ]
  },
  {
   "cell_type": "code",
   "execution_count": 5,
   "metadata": {},
   "outputs": [
    {
     "name": "stdout",
     "output_type": "stream",
     "text": [
      "Mind Tree of people:  Postowner Lius\n",
      "For people Postowner Lius, The observation is: You are Postowner Lius. The following people are in this area: Postowner Lius, Retireadven Daran, Postmanager Linene, ToweMaster Harbin, Robber Terrill. You can interact with them. You know the following about people: Postowner Lius is chatting with Post-Manager. Retireadven Daran is driking the beer. Postmanager Linene is chatting with Postowner Lius. ToweMaster Harbin is calculating the tax of the town. Robber Terrill is chating with Redbrand ruffians members, secretly planing the robbery \n",
      "\n"
     ]
    },
    {
     "name": "stderr",
     "output_type": "stream",
     "text": [
      "/mnt/iMVR/junde/miniconda3/lib/python3.11/site-packages/transformers/pipelines/base.py:1090: UserWarning: You seem to be using the pipelines sequentially on GPU. In order to maximize efficiency please use a dataset\n",
      "  warnings.warn(\n"
     ]
    },
    {
     "name": "stdout",
     "output_type": "stream",
     "text": [
      "changed observation is:  I am Postowner Lius. In this area, I see Retireadven Daran drinking a beer and Postmanager Linene chatting with me. I also notice ToweMaster Harbin calculating the tax of the town and Robber Terrill secretly planning a robbery with Redbrand ruffians members. \n",
      "\n"
     ]
    }
   ],
   "source": [
    "people = []\n",
    "people_description = []\n",
    "for i in town_people.keys():\n",
    "  people.append(i)\n",
    "  people_description.append(action_results[i])\n",
    "\n",
    "i = \"Postowner Lius\"\n",
    "print(\"Mind Tree of people: \", i)\n",
    "\n",
    "observation = \"You are {}.\\\n",
    " The following people are in this area: {}. You can interact with them.\". \\\n",
    "format(i, ', '.join(people))\n",
    "\n",
    "observation += ' You know the following about people: ' + '. '.join(people_description)\n",
    "\n",
    "print(\"For people %s, The observation is: %s \\n\" % (i, observation))\n",
    "\n",
    "ob2 = agents[i].convert_to_first(observation)\n",
    "\n",
    "print(\"changed observation is:  %s \\n\" %(ob2))"
   ]
  }
 ],
 "metadata": {
  "kernelspec": {
   "display_name": "base",
   "language": "python",
   "name": "python3"
  },
  "language_info": {
   "codemirror_mode": {
    "name": "ipython",
    "version": 3
   },
   "file_extension": ".py",
   "mimetype": "text/x-python",
   "name": "python",
   "nbconvert_exporter": "python",
   "pygments_lexer": "ipython3",
   "version": "3.11.5"
  },
  "orig_nbformat": 4
 },
 "nbformat": 4,
 "nbformat_minor": 2
}
