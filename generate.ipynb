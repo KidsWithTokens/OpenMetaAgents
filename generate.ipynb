{
 "cells": [
  {
   "cell_type": "code",
   "execution_count": 1,
   "metadata": {},
   "outputs": [
    {
     "name": "stderr",
     "output_type": "stream",
     "text": [
      "/mnt/iMVR/junde/miniconda3/lib/python3.11/site-packages/tqdm/auto.py:21: TqdmWarning: IProgress not found. Please update jupyter and ipywidgets. See https://ipywidgets.readthedocs.io/en/stable/user_install.html\n",
      "  from .autonotebook import tqdm as notebook_tqdm\n"
     ]
    }
   ],
   "source": [
    "import os\n",
    "\n",
    "os.environ[\"CUDA_VISIBLE_DEVICES\"] = \"0,1\"\n",
    "os.environ['TRANSFORMERS_CACHE'] = '/mnt/iMVR/junde/.cache/huggingface/hub'\n",
    "\n",
    "from langchain.llms import HuggingFacePipeline\n",
    "import networkx as nx\n",
    "from transformers import pipeline\n",
    "import re\n",
    "from creat import creat_world\n",
    "from prompt import *"
   ]
  },
  {
   "cell_type": "code",
   "execution_count": 2,
   "metadata": {},
   "outputs": [
    {
     "name": "stderr",
     "output_type": "stream",
     "text": [
      "Loading checkpoint shards: 100%|██████████| 2/2 [00:14<00:00,  7.08s/it]\n"
     ]
    }
   ],
   "source": [
    "pipeline = pipeline(model=\"meta-llama/Llama-2-7b-chat-hf\", device_map=\"auto\")\n",
    "model = HuggingFacePipeline(pipeline=pipeline, model_kwargs={'temperature':0.7})"
   ]
  },
  {
   "cell_type": "code",
   "execution_count": 3,
   "metadata": {},
   "outputs": [
    {
     "name": "stderr",
     "output_type": "stream",
     "text": [
      "`embedding_function` is expected to be an Embeddings object, support for passing in a function will soon be removed.\n",
      "`embedding_function` is expected to be an Embeddings object, support for passing in a function will soon be removed.\n",
      "`embedding_function` is expected to be an Embeddings object, support for passing in a function will soon be removed.\n",
      "`embedding_function` is expected to be an Embeddings object, support for passing in a function will soon be removed.\n",
      "`embedding_function` is expected to be an Embeddings object, support for passing in a function will soon be removed.\n",
      "`embedding_function` is expected to be an Embeddings object, support for passing in a function will soon be removed.\n",
      "`embedding_function` is expected to be an Embeddings object, support for passing in a function will soon be removed.\n",
      "`embedding_function` is expected to be an Embeddings object, support for passing in a function will soon be removed.\n",
      "`embedding_function` is expected to be an Embeddings object, support for passing in a function will soon be removed.\n",
      "`embedding_function` is expected to be an Embeddings object, support for passing in a function will soon be removed.\n"
     ]
    }
   ],
   "source": [
    "locations, agents = creat_world(model)"
   ]
  },
  {
   "cell_type": "code",
   "execution_count": 4,
   "metadata": {},
   "outputs": [
    {
     "name": "stdout",
     "output_type": "stream",
     "text": [
      "In global time 1\n",
      "Mind Tree of people:  Toblen Stonehill\n"
     ]
    },
    {
     "name": "stdout",
     "output_type": "stream",
     "text": [
      "agent_summary_description is: Name: Toblen Stonehill (age: 69)\n",
      "Innate traits: mean, gossipy, arrogant, selfish\n",
      "Toblen owns a trading post.\n",
      "end\n",
      "relevant_mem is: You are in Phandalin Town Square. The town is small and has a population of around 500 people. The town is surrounded by a dense forest and is located near a river. The town is known for its apple orchards and is a popular stop for travelers. There is a trading post in the town square where you can buy supplies. There is also a tavern where you can rest and gather information. The town is currently at peace, but there have been rumors of bandits and monsters in the nearby forest.\n",
      "# Goals:\n",
      "         Your goal is to gather information about the nearby forest and the rumors of bandits and monsters.\n",
      "# Objectives:\n",
      "         Objective 1: Talk to Daran Edermath and learn more about the rumors of bandits and monsters in the nearby forest.\n",
      "         Objective 2: Visit the trading post and purchase supplies for your journey.\n",
      "         Objective 3: Rest at the tavern and gather information from the locals.\n",
      "# Actions:\n",
      "         Action 1: Approach Daran Edermath and strike up a conversation.\n",
      "         Action 2: Visit the trading post and purchase supplies.\n",
      "         Action 3: Rest at the tavern and gather information from the locals.\n",
      "# Outcomes:\n",
      "         Outcome 1: Daran Edermath provides you with valuable information about the rumors of bandits and monsters in the nearby forest.\n",
      "         Outcome 2: You purchase the necessary supplies for your journey.\n",
      "         Outcome 3: You gather valuable information from the locals at the tavern.\n",
      "# Challenges:\n",
      "         Challenge 1: Daran Edermath is stubborn and reluctant to share information.\n",
      "         Challenge 2: The trading post is out of the supplies you need.\n",
      "         Challenge 3: The tavern is crowded and noisy, making it difficult to gather information.\n",
      "\n",
      "What would you like to do?\n",
      "end\n"
     ]
    },
    {
     "name": "stderr",
     "output_type": "stream",
     "text": [
      "Token indices sequence length is longer than the specified maximum sequence length for this model (1032 > 1024). Running this sequence through the model will result in indexing errors\n"
     ]
    },
    {
     "name": "stdout",
     "output_type": "stream",
     "text": [
      "full action logic\n",
      "What would you like to do?\n",
      "end\n",
      "action result is:\n",
      " \n",
      "Mind Tree of people:  Daran Edermath\n",
      "agent_summary_description is: Name: Daran Edermath (age: 55)\n",
      "Innate traits: Stubborn, upright, inarticulate, calm\n",
      "Daran is a retired adventurer who lives in a tidy little cottage beside an apple orchard. A fit, silver-haired half-elf well over a hundred years old, Daran is a fighter who served as a marshal and herald for many years in the lands of the Dragon Coast, far to the southeast. Upon retiring, he returned to the Neverwinter region, his original home.\n",
      "end\n",
      "relevant_mem is: * You are in Phandalin Town Square.\n",
      "         * You are Daran Edermath.\n",
      "         * It is December 08, 2023.\n",
      "         * The time is 1:00 PM.\n",
      "         * The weather is clear.\n",
      "         * You have 15 gold pieces.\n",
      "         * You have a backpack containing a bedroll, 10 days of rations, and a waterskin.\n",
      "         * You have a belt pouch containing a small amount of healing potion.\n",
      "         * You have a dagger for self-defense.\n",
      "         * You are wearing leather armor, a cloak, and a pair of sturdy boots.\n",
      "         * You have no other items or equipment.\n",
      "\n",
      "What would you like to do?\n",
      "end\n",
      "full action logic\n",
      "SAY: \"Ah, good day to you, good sir. What brings you to Phandalin?\"\n",
      "end\n",
      "action result is:\n",
      "Daran Edermath said \"Ah, good day to you, good sir. What brings you to Phandalin?\"\n",
      "Mind Tree of people:  Linene Graywind\n",
      "agent_summary_description is: Name: Linene Graywind (age: 38)\n",
      "Innate traits: competent, forbearing, self-discipline, impressionable \n",
      "Linene runs a trading post.\n",
      "end\n",
      "relevant_mem is: * Phandalin Town Square\n",
      "         * Toblen Stonehill's trading post\n",
      "         * Daran Edermath's cottage\n",
      "         * Harbin Wester's office\n",
      "         * The Redbrand ruffians\n",
      "\n",
      "What would you like to do?\n",
      "end\n"
     ]
    },
    {
     "name": "stderr",
     "output_type": "stream",
     "text": [
      "/mnt/iMVR/junde/miniconda3/lib/python3.11/site-packages/transformers/pipelines/base.py:1090: UserWarning: You seem to be using the pipelines sequentially on GPU. In order to maximize efficiency please use a dataset\n",
      "  warnings.warn(\n"
     ]
    },
    {
     "name": "stdout",
     "output_type": "stream",
     "text": [
      "full action logic\n",
      "()\n",
      "\n",
      "\n",
      "\n",
      "\n",
      "()\n",
      "\n",
      "\n",
      "()\n",
      "\n",
      "\n",
      "()\n",
      "()\n",
      "()\n",
      "\n",
      "()\n",
      "()\n",
      "\n",
      "\n",
      "()\n",
      "()\n",
      "\n",
      "()\n",
      "()\n",
      "()\n",
      "MS MS MS MSMS MS MSMS MSMS MSMS MSMS MSMSMSMSMS MSMSMSMSMSMS MSMSMS MSMSMSMS MSMSMSMSMSMSMSMSMSMS MSMSMSMSMSMSMSMSMSMSMSMSMS MSMSMSMSMSMSMSMSMSMSMSMSMSMSMSMSMSMSMSMSMSMSMSMSMSMSMSMSMSMSMSMSMSMSMSMSMSMSMSMSMS\n",
      "end\n"
     ]
    },
    {
     "name": "stderr",
     "output_type": "stream",
     "text": [
      "/mnt/iMVR/junde/miniconda3/lib/python3.11/site-packages/transformers/pipelines/base.py:1090: UserWarning: You seem to be using the pipelines sequentially on GPU. In order to maximize efficiency please use a dataset\n",
      "  warnings.warn(\n"
     ]
    },
    {
     "name": "stdout",
     "output_type": "stream",
     "text": [
      "action result is:\n",
      " \n",
      "Mind Tree of people:  Harbin Wester\n"
     ]
    },
    {
     "name": "stderr",
     "output_type": "stream",
     "text": [
      "/mnt/iMVR/junde/miniconda3/lib/python3.11/site-packages/transformers/pipelines/base.py:1090: UserWarning: You seem to be using the pipelines sequentially on GPU. In order to maximize efficiency please use a dataset\n",
      "  warnings.warn(\n",
      "/mnt/iMVR/junde/miniconda3/lib/python3.11/site-packages/transformers/pipelines/base.py:1090: UserWarning: You seem to be using the pipelines sequentially on GPU. In order to maximize efficiency please use a dataset\n",
      "  warnings.warn(\n"
     ]
    },
    {
     "name": "stdout",
     "output_type": "stream",
     "text": [
      "agent_summary_description is: Name: Harbin Wester (age: 40)\n",
      "Innate traits: pompous\n",
      "Harbin is the townmaster of Phandalin. A pompous, old food. Phandalin has no functioning government, but the townsfolk elect someone to serve as townmaster each year. The townmaster serves as a judge in minor disputes and keeps any records that need to be kept.\n",
      "end\n",
      "relevant_mem is: 1. You are in Phandalin Town Square.\n",
      "        2. You have the following items in your inventory: \n",
      "            * A short sword\n",
      "            * A leather armor\n",
      "            * A backpack containing 10 gold pieces, a waterskin, and a bedroll.\n",
      "        3. You have the following skills: \n",
      "            * Acrobatics: +3\n",
      "            * Insight: +2\n",
      "            * Intimidation: +2\n",
      "            * Perception: +2\n",
      "            * Persuasion: +2\n",
      "            * Sleight of Hand: +2\n",
      "            * Stealth: +3\n",
      "            * Survival: +2\n",
      "            * Athletics: +1\n",
      "            * Medicine: +1\n",
      "            * Religion: +1\n",
      "            * Perception: +1\n",
      "            * Persuasion: +1\n",
      "            * Sleight of Hand: +1\n",
      "            * Stealth: +1\n",
      "            * Survival: +1\n",
      "            * Athletics: +1\n",
      "            * Medicine: +1\n",
      "            * Religion: +1\n",
      "        4. You have the following traits: \n",
      "            * Able to speak Common, Dwarvish, and Elvish.\n",
      "            * Proficient in Athletics, Persuasion, and Stealth.\n",
      "            * Skilled in Acrobatics, Intimidation, Medicine, and Religion.\n",
      "            * You have a +1 bonus to attack and damage rolls with a short sword.\n",
      "            * You have a +2 bonus to Persuasion and Intimidation checks.\n",
      "            * You have a +1 bonus to Survival checks.\n",
      "            * You have a +2 bonus to Stealth checks.\n",
      "            * You have a +1 bonus to Perception checks.\n",
      "            * You have a +2 bonus to Insight checks.\n",
      "            * You have a +1 bonus to Medicine checks.\n",
      "            * You have a +2 bonus to Religion checks.\n",
      "        5. You have the following quests: \n",
      "            * \"The Missing Shipment\" (complete)\n",
      "            * \"The Redbrand Threat\" (in progress)\n",
      "        6. You have the following relationships: \n",
      "            * Toblen Stonehill: Neutral\n",
      "            * Daran Edermath: Neutral\n",
      "            * Linene Graywind: Neutral\n",
      "            * Terrill Bloodscar: Hostile\n",
      "        7. You have the following enemies: \n",
      "            * The Redbrand (hostile)\n",
      "        8. You have the following allies: \n",
      "            * None\n",
      "        9. You have the following locations: \n",
      "            * Phandalin Town Square\n",
      "        10. You have the following events: \n",
      "            * \"A group of Redbrand ruffians has been spotted in the area.\"\n",
      "            * \"A traveling merchant has arrived in Phandalin and is looking to hire adventurers.\"\n",
      "            * \"A local farmer has reported strange noises coming from the nearby forest.\"\n",
      "            * \"The town guard has received a tip about a hidden cache of treasure in the nearby ruins.\"\n",
      "\n",
      "What would you like to do?\n",
      "end\n"
     ]
    },
    {
     "name": "stderr",
     "output_type": "stream",
     "text": [
      "/mnt/iMVR/junde/miniconda3/lib/python3.11/site-packages/transformers/pipelines/base.py:1090: UserWarning: You seem to be using the pipelines sequentially on GPU. In order to maximize efficiency please use a dataset\n",
      "  warnings.warn(\n"
     ]
    },
    {
     "name": "stdout",
     "output_type": "stream",
     "text": [
      "full action logic\n",
      "If you want to explore the town, you can say:\n",
      "EXPLORE: \"I'd like to explore the town.\"\n",
      "If you want to investigate the strange noises, you can say:\n",
      "INVESTIGATE: \"I'd like to investigate the strange noises.\"\n",
      "If you want to interact with one of the NPCs, you can say:\n",
      "INTERACT: \"I'd like to interact with (name of NPC).\"\n",
      "If you want to go to a specific location, you can say:\n",
      "GO: \"I'd like to go to (location).\"\n",
      "If you want to complete a quest, you can say:\n",
      "COMPLETE: \"I'd like to complete the (quest name) quest.\"\n",
      "If you want to change your status, you can say:\n",
      "CHANGE: \"I'd like to change my status to (new status).\"\n",
      "If you want to rest, you can say:\n",
      "REST: \"I'd like to rest.\"\n",
      "If you want to do nothing, you can say:\n",
      "DO_nothing: \"I'd like to do nothing.\"\n",
      "end\n"
     ]
    },
    {
     "name": "stderr",
     "output_type": "stream",
     "text": [
      "/mnt/iMVR/junde/miniconda3/lib/python3.11/site-packages/transformers/pipelines/base.py:1090: UserWarning: You seem to be using the pipelines sequentially on GPU. In order to maximize efficiency please use a dataset\n",
      "  warnings.warn(\n"
     ]
    },
    {
     "name": "stdout",
     "output_type": "stream",
     "text": [
      "action result is:\n",
      " \n",
      "Mind Tree of people:  Terrill Bloodscar\n"
     ]
    },
    {
     "name": "stderr",
     "output_type": "stream",
     "text": [
      "/mnt/iMVR/junde/miniconda3/lib/python3.11/site-packages/transformers/pipelines/base.py:1090: UserWarning: You seem to be using the pipelines sequentially on GPU. In order to maximize efficiency please use a dataset\n",
      "  warnings.warn(\n",
      "/mnt/iMVR/junde/miniconda3/lib/python3.11/site-packages/transformers/pipelines/base.py:1090: UserWarning: You seem to be using the pipelines sequentially on GPU. In order to maximize efficiency please use a dataset\n",
      "  warnings.warn(\n"
     ]
    },
    {
     "name": "stdout",
     "output_type": "stream",
     "text": [
      "agent_summary_description is: Name: Terrill Bloodscar (age: 16)\n",
      "Innate traits: ignorant\n",
      "Terrill is a human ruffian. He wears a grimy scarlet cloak. He is a member of the Redbrand ruffians. He doesn't like adventurers, and wants to rob and kill them.\n",
      "end\n",
      "relevant_mem is: Town square of the town of Phandalin.. It is currently 1:00. The following people are in this area: Toblen Stonehill, Daran Edermath, Linene Graywind, Harbin Wester.\n",
      "# Choices: \n",
      "A) Approach Toblen Stonehill\n",
      "B) Approach Daran Edermath\n",
      "C) Approach Linene Graywind\n",
      "D) Approach Harbin Wester\n",
      "E) Ignore everyone and explore the town\n",
      "Please pick one of the above options by typing the corresponding letter.\n",
      "end\n"
     ]
    },
    {
     "name": "stderr",
     "output_type": "stream",
     "text": [
      "/mnt/iMVR/junde/miniconda3/lib/python3.11/site-packages/transformers/pipelines/base.py:1090: UserWarning: You seem to be using the pipelines sequentially on GPU. In order to maximize efficiency please use a dataset\n",
      "  warnings.warn(\n"
     ]
    },
    {
     "name": "stdout",
     "output_type": "stream",
     "text": [
      "full action logic\n",
      "Please respond with the appropriate reaction.\n",
      "end\n"
     ]
    },
    {
     "name": "stderr",
     "output_type": "stream",
     "text": [
      "/mnt/iMVR/junde/miniconda3/lib/python3.11/site-packages/transformers/pipelines/base.py:1090: UserWarning: You seem to be using the pipelines sequentially on GPU. In order to maximize efficiency please use a dataset\n",
      "  warnings.warn(\n"
     ]
    },
    {
     "name": "stdout",
     "output_type": "stream",
     "text": [
      "action result is:\n",
      " \n",
      "In global time 2\n",
      "Mind Tree of people:  Toblen Stonehill\n"
     ]
    },
    {
     "name": "stderr",
     "output_type": "stream",
     "text": [
      "/mnt/iMVR/junde/miniconda3/lib/python3.11/site-packages/transformers/pipelines/base.py:1090: UserWarning: You seem to be using the pipelines sequentially on GPU. In order to maximize efficiency please use a dataset\n",
      "  warnings.warn(\n",
      "/mnt/iMVR/junde/miniconda3/lib/python3.11/site-packages/transformers/pipelines/base.py:1090: UserWarning: You seem to be using the pipelines sequentially on GPU. In order to maximize efficiency please use a dataset\n",
      "  warnings.warn(\n"
     ]
    },
    {
     "name": "stdout",
     "output_type": "stream",
     "text": [
      "agent_summary_description is: Name: Toblen Stonehill (age: 69)\n",
      "Innate traits: mean, gossipy, arrogant, selfish\n",
      "Toblen owns a trading post.\n",
      "end\n",
      "relevant_mem is: 1. You are Toblen Stonehill.\n",
      "        2. You are in Phandalin Town Square.\n",
      "        3. It is currently 2:00 PM.\n",
      "        4. You know the following about people: Daran Edermath, Linene Graywind, Harbin Wester, Terrill Bloodscar.\n",
      "# Relevant information:\n",
      "        1. Daran Edermath is a retired adventurer who lives in a tidy little cottage beside an apple orchard.\n",
      "        2. Linene Graywind runs a trading post.\n",
      "        3. Harbin Wester is the townmaster of Phandalin.\n",
      "        4. Terrill Bloodscar is a human ruffian who wears a grimy scarlet cloak and is a member of the Redbrand ruffians.\n",
      "# Possible actions:\n",
      "        1. Approach Daran Edermath and strike up a conversation.\n",
      "        2. Approach Linene Graywind and ask about the local economy.\n",
      "        3. Approach Harbin Wester and ask about the town's governance.\n",
      "        4. Approach Terrill Bloodscar and try to intimidate him.\n",
      "        5. Leave the town square and explore the town of Phandalin.\n",
      "# Dice rolls:\n",
      "        1. Charisma (Persuasion) to approach Daran Edermath and strike up a conversation.\n",
      "        2. Intelligence (Investigation) to ask Linene Graywind about the local economy.\n",
      "        3. Charisma (Persuasion) to approach Harbin Wester and ask about the town's governance.\n",
      "        4. Intimidation (Persuasion) to approach Terrill Bloodscar and try to intimidate him.\n",
      "        5. Perception (Inspect) to explore the town of Phandalin.\n",
      "\n",
      "What would you like to do?\n",
      "end\n"
     ]
    },
    {
     "name": "stderr",
     "output_type": "stream",
     "text": [
      "/mnt/iMVR/junde/miniconda3/lib/python3.11/site-packages/transformers/pipelines/base.py:1090: UserWarning: You seem to be using the pipelines sequentially on GPU. In order to maximize efficiency please use a dataset\n",
      "  warnings.warn(\n"
     ]
    },
    {
     "name": "stdout",
     "output_type": "stream",
     "text": [
      "full action logic\n",
      "Please provide your choice in the form of a single word or short phrase.\n",
      "end\n"
     ]
    },
    {
     "name": "stderr",
     "output_type": "stream",
     "text": [
      "/mnt/iMVR/junde/miniconda3/lib/python3.11/site-packages/transformers/pipelines/base.py:1090: UserWarning: You seem to be using the pipelines sequentially on GPU. In order to maximize efficiency please use a dataset\n",
      "  warnings.warn(\n"
     ]
    },
    {
     "name": "stdout",
     "output_type": "stream",
     "text": [
      "action result is:\n",
      " \n",
      "Mind Tree of people:  Daran Edermath\n"
     ]
    },
    {
     "name": "stderr",
     "output_type": "stream",
     "text": [
      "/mnt/iMVR/junde/miniconda3/lib/python3.11/site-packages/transformers/pipelines/base.py:1090: UserWarning: You seem to be using the pipelines sequentially on GPU. In order to maximize efficiency please use a dataset\n",
      "  warnings.warn(\n",
      "/mnt/iMVR/junde/miniconda3/lib/python3.11/site-packages/transformers/pipelines/base.py:1090: UserWarning: You seem to be using the pipelines sequentially on GPU. In order to maximize efficiency please use a dataset\n",
      "  warnings.warn(\n"
     ]
    },
    {
     "name": "stdout",
     "output_type": "stream",
     "text": [
      "agent_summary_description is: Name: Daran Edermath (age: 55)\n",
      "Innate traits: Stubborn, upright, inarticulate, calm\n",
      "Daran is a retired adventurer who lives in a tidy little cottage beside an apple orchard. A fit, silver-haired half-elf well over a hundred years old, Daran is a fighter who served as a marshal and herald for many years in the lands of the Dragon Coast, far to the southeast. Upon retiring, he returned to the Neverwinter region, his original home.\n",
      "end\n",
      "relevant_mem is: You are Daran Edermath.\n",
      "         Phandalin Town Square is a public area in the town of Phandalin.\n",
      "         Toblen Stonehill is a mean, gossipy, arrogant, and selfish old man who owns a trading post in Phandalin.\n",
      "         Linene Graywind is a competent, forbearing, self-disciplined, and impressionable woman who runs a trading post in Phandalin.\n",
      "         Harbin Wester is a pompous old food who is the townmaster of Phandalin.\n",
      "         Terrill Bloodscar is a human ruffian who wears a grimy scarlet cloak and is a member of the Redbrand ruffians.\n",
      "         Phandalin has no functioning government, but the townsfolk elect someone to serve as townmaster each year.\n",
      "         The townmaster serves as a judge in minor disputes and keeps any records that need to be kept.\n",
      "         You are in Phandalin Town Square at 1:00 PM on December 08, 2023.\n",
      "\n",
      "What would you like to do?\n",
      "\n",
      "1. Talk to Toblen Stonehill\n",
      "2. Talk to Linene Graywind\n",
      "3. Talk to Harbin Wester\n",
      "4. Talk to Terrill Bloodscar\n",
      "5. Examine the area\n",
      "6. Leave the town square\n",
      "\n",
      "Please respond with the number of your chosen action.\n",
      "end\n"
     ]
    },
    {
     "name": "stderr",
     "output_type": "stream",
     "text": [
      "/mnt/iMVR/junde/miniconda3/lib/python3.11/site-packages/transformers/pipelines/base.py:1090: UserWarning: You seem to be using the pipelines sequentially on GPU. In order to maximize efficiency please use a dataset\n",
      "  warnings.warn(\n"
     ]
    },
    {
     "name": "stdout",
     "output_type": "stream",
     "text": [
      "full action logic\n",
      "Please respond with the number of your chosen action.\n",
      "end\n"
     ]
    },
    {
     "name": "stderr",
     "output_type": "stream",
     "text": [
      "/mnt/iMVR/junde/miniconda3/lib/python3.11/site-packages/transformers/pipelines/base.py:1090: UserWarning: You seem to be using the pipelines sequentially on GPU. In order to maximize efficiency please use a dataset\n",
      "  warnings.warn(\n"
     ]
    },
    {
     "name": "stdout",
     "output_type": "stream",
     "text": [
      "action result is:\n",
      " \n",
      "Mind Tree of people:  Linene Graywind\n"
     ]
    },
    {
     "name": "stderr",
     "output_type": "stream",
     "text": [
      "/mnt/iMVR/junde/miniconda3/lib/python3.11/site-packages/transformers/pipelines/base.py:1090: UserWarning: You seem to be using the pipelines sequentially on GPU. In order to maximize efficiency please use a dataset\n",
      "  warnings.warn(\n",
      "/mnt/iMVR/junde/miniconda3/lib/python3.11/site-packages/transformers/pipelines/base.py:1090: UserWarning: You seem to be using the pipelines sequentially on GPU. In order to maximize efficiency please use a dataset\n",
      "  warnings.warn(\n"
     ]
    },
    {
     "name": "stdout",
     "output_type": "stream",
     "text": [
      "agent_summary_description is: Name: Linene Graywind (age: 38)\n",
      "Innate traits: competent, forbearing, self-discipline, impressionable \n",
      "Linene runs a trading post.\n",
      "end\n",
      "relevant_mem is: You are in Phandalin Town Square.\n",
      "         You are currently 2:00 PM.\n",
      "         The following people are in this area: Toblen Stonehill, Daran Edermath, Harbin Wester, Terrill Bloodscar.\n",
      "         You know the following about people: Toblen Stonehill: Name: Toblen Stonehill (age: 69)\n",
      "Innate traits: mean, gossipy, arrogant, selfish\n",
      "Toblen owns a trading post.. Daran Edermath: Name: Daran Edermath (age: 55)\n",
      "Innate traits: Stubborn, upright, inarticulate, calm\n",
      "Daran is a retired adventurer who lives in a tidy little cottage beside an apple orchard. A fit, silver-haired half-elf well over a hundred years old, Daran is a fighter who served as a marshal and herald for many years in the lands of the Dragon Coast, far to the southeast. Upon retiring, he returned to the Neverwinter region, his original home.. Harbin Wester: Name: Harbin Wester (age: 40)\n",
      "Innate traits: pompous\n",
      "Harbin is the townmaster of Phandalin. A pompous, old food. Phandalin has no functioning government, but the townsfolk elect someone to serve as townmaster each year. The townmaster serves as a judge in minor disputes and keeps any records that need to be kept.. Terrill Bloodscar: Name: Terrill Bloodscar (age: 16)\n",
      "Innate traits: ignorant\n",
      "Terrill is a human ruffian. He wears a grimy scarlet cloak. He is a member of the Redbrand ruffians. He doesn't like adventurers, and wants to rob and kill them.\n",
      "# Possible actions:\n",
      "         Interact with Toblen Stonehill, Daran Edermath, Harbin Wester, Terrill Bloodscar.\n",
      "         Buy something from Toblen Stonehill's trading post.\n",
      "         Ask Daran Edermath about the town's recent events.\n",
      "         Ask Harbin Wester about the town's government.\n",
      "         Challenge Terrill Bloodscar to a duel.\n",
      "# Relevant skills:\n",
      "         Persuasion\n",
      "         History\n",
      "         Insight\n",
      "         Athletics\n",
      "         Intimidation\n",
      "\n",
      "# Relevant items:\n",
      "         None\n",
      "\n",
      "# Relevant quests:\n",
      "         None\n",
      "\n",
      "# Relevant NPCs:\n",
      "         None\n",
      "\n",
      "# Relevant locations:\n",
      "         Phandalin Town Square\n",
      "\n",
      "# Relevant events:\n",
      "         None\n",
      "\n",
      "# Relevant secrets:\n",
      "         None\n",
      "\n",
      "# Relevant rumors:\n",
      "         None\n",
      "\n",
      "# Relevant NPC reactions:\n",
      "         None\n",
      "\n",
      "# Relevant NPC thoughts:\n",
      "         None\n",
      "\n",
      "# Relevant NPC feelings:\n",
      "         None\n",
      "\n",
      "# Relevant NPC motivations:\n",
      "         None\n",
      "\n",
      "# Relevant NPC goals:\n",
      "         None\n",
      "\n",
      "# Relevant NPC alliances:\n",
      "         None\n",
      "\n",
      "# Relevant NPC rivalries:\n",
      "         None\n",
      "\n",
      "# Relevant NPC enemies:\n",
      "         None\n",
      "\n",
      "# Relevant NPC friends:\n",
      "         None\n",
      "\n",
      "# Relevant NPC neutral:\n",
      "         None\n",
      "\n",
      "# Relevant NPC hostile:\n",
      "         None\n",
      "\n",
      "# Relevant NPC unfriendly:\n",
      "         None\n",
      "\n",
      "# Relevant NPC suspicious:\n",
      "         None\n",
      "\n",
      "# Relevant NPC trusting:\n",
      "         None\n",
      "\n",
      "# Relevant NPC untrusting:\n",
      "         None\n",
      "\n",
      "# Relevant NPC helpful:\n",
      "         None\n",
      "\n",
      "# Relevant NPC unhelpful:\n",
      "         None\n",
      "\n",
      "# Relevant NPC informative:\n",
      "         None\n",
      "\n",
      "# Relevant NPC uninformative:\n",
      "         None\n",
      "\n",
      "# Relevant NPC friendly:\n",
      "         None\n",
      "\n",
      "# Relevant NPC unfriendly:\n",
      "         None\n",
      "\n",
      "# Relevant NPC suspicious:\n",
      "         None\n",
      "\n",
      "# Relevant NPC trusting:\n",
      "         None\n",
      "\n",
      "# Relevant NPC untrusting:\n",
      "         None\n",
      "\n",
      "# Relevant NPC helpful:\n",
      "         None\n",
      "\n",
      "# Relevant NPC unhelpful:\n",
      "         None\n",
      "\n",
      "# Relevant NPC informative:\n",
      "         None\n",
      "\n",
      "# Relevant NPC uninformative:\n",
      "         None\n",
      "\n",
      "# Relevant NPC friendly:\n",
      "         None\n",
      "\n",
      "# Relevant NPC unfriendly:\n",
      "         None\n",
      "\n",
      "# Relevant NPC suspicious:\n",
      "         None\n",
      "\n",
      "# Relevant NPC trusting:\n",
      "         None\n",
      "\n",
      "# Relevant NPC untrusting:\n",
      "         None\n",
      "\n",
      "# Relevant NPC helpful:\n",
      "         None\n",
      "\n",
      "# Relevant NPC unhelpful:\n",
      "         None\n",
      "\n",
      "# Relevant NPC informative:\n",
      "         None\n",
      "\n",
      "# Relevant NPC uninformative:\n",
      "         None\n",
      "\n",
      "# Relevant NPC friendly:\n",
      "         None\n",
      "\n",
      "# Relevant NPC unfriendly:\n",
      "         None\n",
      "\n",
      "# Relevant NPC suspicious:\n",
      "         None\n",
      "\n",
      "# Relevant NPC trusting:\n",
      "         None\n",
      "\n",
      "# Relevant NPC untrusting:\n",
      "         None\n",
      "\n",
      "# Relevant NPC helpful:\n",
      "         None\n",
      "\n",
      "# Relevant NPC unhelpful:\n",
      "         None\n",
      "\n",
      "# Relevant NPC informative:\n",
      "         None\n",
      "\n",
      "# Relevant NPC uninformative:\n",
      "         None\n",
      "\n",
      "# Relevant NPC friendly:\n",
      "         None\n",
      "\n",
      "# Relevant NPC unfriendly:\n",
      "         None\n",
      "\n",
      "# Relevant NPC suspicious:\n",
      "         None\n",
      "\n",
      "# Relevant NPC trusting:\n",
      "         None\n",
      "\n",
      "# Relevant NPC untrusting:\n",
      "         None\n",
      "\n",
      "# Relevant NPC helpful:\n",
      "         None\n",
      "\n",
      "# Relevant NPC unhelpful:\n",
      "         None\n",
      "\n",
      "# Relevant NPC informative:\n",
      "         None\n",
      "\n",
      "# Relevant NPC uninformative:\n",
      "         None\n",
      "\n",
      "# Relevant NPC friendly:\n",
      "         None\n",
      "\n",
      "# Relevant NPC unfriendly:\n",
      "         None\n",
      "\n",
      "# Relevant NPC suspicious:\n",
      "         None\n",
      "\n",
      "# Relevant NPC trusting:\n",
      "         None\n",
      "\n",
      "# Relevant NPC untrusting:\n",
      "         None\n",
      "\n",
      "# Relevant NPC helpful:\n",
      "         None\n",
      "\n",
      "# Relevant NPC unhelpful:\n",
      "         None\n",
      "\n",
      "# Relevant NPC informative:\n",
      "         None\n",
      "\n",
      "# Relevant NPC uninformative:\n",
      "         None\n",
      "\n",
      "# Relevant NPC friendly:\n",
      "         None\n",
      "\n",
      "# Relevant NPC unfriendly:\n",
      "         None\n",
      "\n",
      "# Relevant NPC suspicious:\n",
      "         None\n",
      "\n",
      "# Relevant NPC trusting:\n",
      "         None\n",
      "\n",
      "# Relevant NPC untrusting:\n",
      "         None\n",
      "\n",
      "# Relevant NPC helpful:\n",
      "         None\n",
      "\n",
      "# Relevant NPC unhelpful:\n",
      "         None\n",
      "\n",
      "# Relevant NPC informative:\n",
      "         None\n",
      "\n",
      "# Relevant NPC uninformative:\n",
      "         None\n",
      "\n",
      "# Relevant NPC friendly:\n",
      "         None\n",
      "\n",
      "# Relevant NPC unfriendly:\n",
      "         None\n",
      "\n",
      "# Relevant NPC suspicious:\n",
      "         None\n",
      "\n",
      "# Relevant NPC trusting:\n",
      "         None\n",
      "\n",
      "# Relevant NPC untrusting:\n",
      "         None\n",
      "\n",
      "# Relevant NPC helpful:\n",
      "         None\n",
      "\n",
      "# Relevant NPC unhelpful:\n",
      "         None\n",
      "\n",
      "# Relevant NPC informative:\n",
      "         None\n",
      "\n",
      "# Relevant NPC uninformative:\n",
      "         None\n",
      "\n",
      "# Relevant NPC friendly:\n",
      "         None\n",
      "\n",
      "# Relevant NPC unfriendly:\n",
      "         None\n",
      "\n",
      "# Relevant NPC suspicious:\n",
      "         None\n",
      "\n",
      "# Relevant NPC trusting:\n",
      "         None\n",
      "\n",
      "# Relevant NPC untrusting:\n",
      "         None\n",
      "\n",
      "# Relevant NPC helpful:\n",
      "         None\n",
      "\n",
      "# Relevant NPC unhelpful:\n",
      "         None\n",
      "\n",
      "# Relevant NPC informative:\n",
      "         None\n",
      "\n",
      "# Relevant NPC uninformative:\n",
      "         None\n",
      "\n",
      "# Relevant NPC friendly:\n",
      "         None\n",
      "\n",
      "# Relevant NPC unfriendly:\n",
      "         None\n",
      "\n",
      "# Relevant NPC suspicious:\n",
      "         None\n",
      "\n",
      "# Relevant NPC trusting:\n",
      "         None\n",
      "\n",
      "# Relevant NPC untrusting:\n",
      "         None\n",
      "\n",
      "# Relevant NPC helpful:\n",
      "         None\n",
      "\n",
      "# Relevant NPC unhelpful:\n",
      "         None\n",
      "\n",
      "# Relevant NPC informative:\n",
      "         None\n",
      "\n",
      "# Relevant NPC uninformative:\n",
      "         None\n",
      "\n",
      "# Relevant NPC friendly:\n",
      "         None\n",
      "\n",
      "# Relevant NPC unfriendly:\n",
      "         None\n",
      "\n",
      "# Relevant NPC suspicious:\n",
      "         None\n",
      "\n",
      "# Relevant NPC trusting:\n",
      "         None\n",
      "\n",
      "# Relevant NPC untrusting:\n",
      "         None\n",
      "\n",
      "# Relevant NPC helpful:\n",
      "         None\n",
      "\n",
      "# Relevant NPC unhelpful:\n",
      "         None\n",
      "\n",
      "# Relevant NPC informative:\n",
      "         None\n",
      "\n",
      "# Relevant NPC uninformative:\n",
      "         None\n",
      "\n",
      "# Relevant NPC friendly:\n",
      "         None\n",
      "\n",
      "# Relevant NPC unfriendly:\n",
      "         None\n",
      "\n",
      "# Relevant NPC suspicious:\n",
      "         None\n",
      "\n",
      "# Relevant NPC trusting:\n",
      "         None\n",
      "\n",
      "# Relevant NPC untrusting:\n",
      "         None\n",
      "\n",
      "# Relevant NPC helpful:\n",
      "         None\n",
      "\n",
      "# Relevant NPC unhelpful:\n",
      "         None\n",
      "\n",
      "# Relevant NPC informative:\n",
      "         None\n",
      "\n",
      "# Relevant NPC uninformative:\n",
      "         None\n",
      "\n",
      "# Relevant NPC friendly:\n",
      "         None\n",
      "\n",
      "# Relevant NPC unfriendly:\n",
      "         None\n",
      "\n",
      "# Relevant NPC suspicious:\n",
      "         None\n",
      "\n",
      "# Relevant NPC trusting:\n",
      "         None\n",
      "\n",
      "# Relevant NPC untrusting:\n",
      "         None\n",
      "\n",
      "# Relevant NPC helpful:\n",
      "         None\n",
      "\n",
      "# Relevant NPC unhelpful:\n",
      "         None\n",
      "\n",
      "# Relevant NPC informative:\n",
      "         None\n",
      "\n",
      "# Relevant NPC uninformative:\n",
      "         None\n",
      "\n",
      "# Relevant NPC friendly:\n",
      "         None\n",
      "\n",
      "# Relevant NPC unfriendly:\n",
      "         None\n",
      "\n",
      "# Relevant NPC suspicious:\n",
      "         None\n",
      "\n",
      "# Relevant NPC trusting:\n",
      "         None\n",
      "\n",
      "# Relevant NPC untrusting:\n",
      "         None\n",
      "\n",
      "# Relevant NPC helpful:\n",
      "         None\n",
      "\n",
      "# Relevant NPC unhelpful:\n",
      "         None\n",
      "\n",
      "# Relevant NPC informative:\n",
      "         None\n",
      "\n",
      "# Relevant NPC uninformative:\n",
      "         None\n",
      "\n",
      "# Relevant NPC friendly:\n",
      "         None\n",
      "\n",
      "# Relevant NPC unfriendly:\n",
      "         None\n",
      "\n",
      "# Relevant NPC suspicious:\n",
      "         None\n",
      "\n",
      "# Relevant NPC trusting:\n",
      "         None\n",
      "\n",
      "# Relevant NPC untrusting:\n",
      "         None\n",
      "\n",
      "# Relevant NPC helpful:\n",
      "         None\n",
      "\n",
      "# Relevant NPC unhelpful:\n",
      "         None\n",
      "\n",
      "# Relevant NPC informative:\n",
      "         None\n",
      "\n",
      "# Relevant NPC uninformative:\n",
      "         None\n",
      "\n",
      "# Relevant NPC friendly:\n",
      "         None\n",
      "\n",
      "# Relevant NPC unfriendly:\n",
      "         None\n",
      "\n",
      "# Relevant NPC suspicious:\n",
      "         None\n",
      "\n",
      "# Relevant NPC trusting:\n",
      "         None\n",
      "\n",
      "# Relevant NPC untrusting:\n",
      "         None\n",
      "\n",
      "# Relevant NPC helpful:\n",
      "         None\n",
      "\n",
      "# Relevant NPC unhelpful:\n",
      "         None\n",
      "\n",
      "# Relevant NPC informative:\n",
      "         None\n",
      "\n",
      "# Relevant NPC uninformative:\n",
      "         None\n",
      "\n",
      "# Relevant NPC friendly:\n",
      "         None\n",
      "\n",
      "# Relevant NPC unfriendly:\n",
      "         None\n",
      "\n",
      "# Re\n",
      "end\n"
     ]
    },
    {
     "name": "stderr",
     "output_type": "stream",
     "text": [
      "/mnt/iMVR/junde/miniconda3/lib/python3.11/site-packages/transformers/pipelines/base.py:1090: UserWarning: You seem to be using the pipelines sequentially on GPU. In order to maximize efficiency please use a dataset\n",
      "  warnings.warn(\n"
     ]
    },
    {
     "name": "stdout",
     "output_type": "stream",
     "text": [
      "full action logic\n",
      "# Reaction: Linene Graywind's reaction (if anything).\n",
      "REACT: Linene's eyes narrow as she surveys the area, her mind racing with the potential for profit and loss.\n",
      "end\n"
     ]
    },
    {
     "name": "stderr",
     "output_type": "stream",
     "text": [
      "/mnt/iMVR/junde/miniconda3/lib/python3.11/site-packages/transformers/pipelines/base.py:1090: UserWarning: You seem to be using the pipelines sequentially on GPU. In order to maximize efficiency please use a dataset\n",
      "  warnings.warn(\n"
     ]
    },
    {
     "name": "stdout",
     "output_type": "stream",
     "text": [
      "action result is:\n",
      "Linene Graywind Linene's eyes narrow as she surveys the area, her mind racing with the potential for profit and loss.\n",
      "Mind Tree of people:  Harbin Wester\n"
     ]
    },
    {
     "name": "stderr",
     "output_type": "stream",
     "text": [
      "/mnt/iMVR/junde/miniconda3/lib/python3.11/site-packages/transformers/pipelines/base.py:1090: UserWarning: You seem to be using the pipelines sequentially on GPU. In order to maximize efficiency please use a dataset\n",
      "  warnings.warn(\n",
      "/mnt/iMVR/junde/miniconda3/lib/python3.11/site-packages/transformers/pipelines/base.py:1090: UserWarning: You seem to be using the pipelines sequentially on GPU. In order to maximize efficiency please use a dataset\n",
      "  warnings.warn(\n"
     ]
    },
    {
     "name": "stdout",
     "output_type": "stream",
     "text": [
      "agent_summary_description is: Name: Harbin Wester (age: 40)\n",
      "Innate traits: pompous\n",
      "Harbin is the townmaster of Phandalin. A pompous, old food. Phandalin has no functioning government, but the townsfolk elect someone to serve as townmaster each year. The townmaster serves as a judge in minor disputes and keeps any records that need to be kept.\n",
      "end\n",
      "relevant_mem is: * You are in Phandalin Town Square.\n",
      "         * You are Harbin Wester.\n",
      "         * It is currently 2:00 PM.\n",
      "         * The following people are in this area: Toblen Stonehill, Daran Edermath, Linene Graywind, Terrill Bloodscar.\n",
      "         * You know the following about people: Toblen Stonehill: Name: Toblen Stonehill (age: 69)\n",
      "Innate traits: mean, gossipy, arrogant, selfish\n",
      "Toblen owns a trading post.. Daran Edermath: Name: Daran Edermath (age: 55)\n",
      "Innate traits: Stubborn, upright, inarticulate, calm\n",
      "Daran is a retired adventurer who lives in a tidy little cottage beside an apple orchard. A fit, silver-haired half-elf well over a hundred years old, Daran is a fighter who served as a marshal and herald for many years in the lands of the Dragon Coast, far to the southeast. Upon retiring, he returned to the Neverwinter region, his original home.. Linene Graywind: Name: Linene Graywind (age: 38)\n",
      "Innate traits: competent, forbearing, self-discipline, impressionable \n",
      "Linene runs a trading post.. Terrill Bloodscar: Name: Terrill Bloodscar (age: 16)\n",
      "Innate traits: ignorant\n",
      "Terrill is a human ruffian. He wears a grimy scarlet cloak. He is a member of the Redbrand ruffians. He doesn't like adventurers, and wants to rob and kill them.\n",
      "# Optional context: \n",
      "         * You have a key to the local tavern.\n",
      "         * You have 10 gold pieces in your pocket.\n",
      "         * You have a backpack with 5 healing potions, 2 torches, and a small sack of flint and steel.\n",
      "         * You have a letter of introduction from the Lord of Phandalin to the Lord of Neverwinter.\n",
      "         * You are on a mission to retrieve a powerful artifact hidden in the nearby forest.\n",
      "         * You have heard rumors of a powerful wizard in the area who is seeking adventurers to aid in a quest.\n",
      "         * You have a reputation in the area as a skilled adventurer and are known by many of the locals.\n",
      "\n",
      "What would you like to do?\n",
      "end\n"
     ]
    },
    {
     "name": "stderr",
     "output_type": "stream",
     "text": [
      "/mnt/iMVR/junde/miniconda3/lib/python3.11/site-packages/transformers/pipelines/base.py:1090: UserWarning: You seem to be using the pipelines sequentially on GPU. In order to maximize efficiency please use a dataset\n",
      "  warnings.warn(\n"
     ]
    },
    {
     "name": "stdout",
     "output_type": "stream",
     "text": [
      "full action logic\n",
      "Harbin Wester's reaction: REACT: \"Calculating the tax of the town, indeed. *adjusts glasses* I hope these... individuals are not causing any trouble. *glares at Terrill* Phandalin needs order and stability, and I will not let any ruffians disrupt our peace.\"\n",
      "end\n"
     ]
    },
    {
     "name": "stderr",
     "output_type": "stream",
     "text": [
      "/mnt/iMVR/junde/miniconda3/lib/python3.11/site-packages/transformers/pipelines/base.py:1090: UserWarning: You seem to be using the pipelines sequentially on GPU. In order to maximize efficiency please use a dataset\n",
      "  warnings.warn(\n"
     ]
    },
    {
     "name": "stdout",
     "output_type": "stream",
     "text": [
      "action result is:\n",
      "Harbin Wester \"Calculating the tax of the town, indeed. *adjusts glasses* I hope these... individuals are not causing any trouble. *glares at Terrill* Phandalin needs order and stability, and I will not let any ruffians disrupt our peace.\"\n",
      "Mind Tree of people:  Terrill Bloodscar\n"
     ]
    },
    {
     "name": "stderr",
     "output_type": "stream",
     "text": [
      "/mnt/iMVR/junde/miniconda3/lib/python3.11/site-packages/transformers/pipelines/base.py:1090: UserWarning: You seem to be using the pipelines sequentially on GPU. In order to maximize efficiency please use a dataset\n",
      "  warnings.warn(\n",
      "/mnt/iMVR/junde/miniconda3/lib/python3.11/site-packages/transformers/pipelines/base.py:1090: UserWarning: You seem to be using the pipelines sequentially on GPU. In order to maximize efficiency please use a dataset\n",
      "  warnings.warn(\n"
     ]
    },
    {
     "name": "stdout",
     "output_type": "stream",
     "text": [
      "agent_summary_description is: Name: Terrill Bloodscar (age: 16)\n",
      "Innate traits: ignorant\n",
      "Terrill is a human ruffian. He wears a grimy scarlet cloak. He is a member of the Redbrand ruffians. He doesn't like adventurers, and wants to rob and kill them.\n",
      "end\n",
      "relevant_mem is: * Terrill Bloodscar is a level 1 human rogue.\n",
      "         * Phandalin is a small town located in the Neverwinter Wood.\n",
      "         * The town is known for its apple orchards and its annual Harvest Festival.\n",
      "         * The town has a population of around 200 people.\n",
      "         * The town has a trading post owned by Toblen Stonehill.\n",
      "         * The town has a cottage for retired adventurers.\n",
      "         * The town has a tidy little cottage beside an apple orchard.\n",
      "         * The town has a pompous townmaster Harbin Wester.\n",
      "\n",
      "Please provide the action you would like to take, and I will tell you the outcome.\n",
      "end\n"
     ]
    },
    {
     "name": "stderr",
     "output_type": "stream",
     "text": [
      "/mnt/iMVR/junde/miniconda3/lib/python3.11/site-packages/transformers/pipelines/base.py:1090: UserWarning: You seem to be using the pipelines sequentially on GPU. In order to maximize efficiency please use a dataset\n",
      "  warnings.warn(\n"
     ]
    },
    {
     "name": "stdout",
     "output_type": "stream",
     "text": [
      "full action logic\n",
      "What would you like to do?\n",
      "end\n"
     ]
    },
    {
     "name": "stderr",
     "output_type": "stream",
     "text": [
      "/mnt/iMVR/junde/miniconda3/lib/python3.11/site-packages/transformers/pipelines/base.py:1090: UserWarning: You seem to be using the pipelines sequentially on GPU. In order to maximize efficiency please use a dataset\n",
      "  warnings.warn(\n"
     ]
    },
    {
     "name": "stdout",
     "output_type": "stream",
     "text": [
      "action result is:\n",
      " \n",
      "In global time 3\n",
      "Mind Tree of people:  Toblen Stonehill\n"
     ]
    },
    {
     "name": "stderr",
     "output_type": "stream",
     "text": [
      "/mnt/iMVR/junde/miniconda3/lib/python3.11/site-packages/transformers/pipelines/base.py:1090: UserWarning: You seem to be using the pipelines sequentially on GPU. In order to maximize efficiency please use a dataset\n",
      "  warnings.warn(\n",
      "/mnt/iMVR/junde/miniconda3/lib/python3.11/site-packages/transformers/pipelines/base.py:1090: UserWarning: You seem to be using the pipelines sequentially on GPU. In order to maximize efficiency please use a dataset\n",
      "  warnings.warn(\n"
     ]
    },
    {
     "name": "stdout",
     "output_type": "stream",
     "text": [
      "agent_summary_description is: Name: Toblen Stonehill (age: 69)\n",
      "Innate traits: mean, gossipy, arrogant, selfish\n",
      "Toblen owns a trading post.\n",
      "end\n",
      "relevant_mem is: * The town of Phandalin has no functioning government, but the townsfolk elect someone to serve as townmaster each year.\n",
      "         * The townmaster serves as a judge in minor disputes and keeps any records that need to be kept.\n",
      "         * Daran Edermath is a retired adventurer who lives in a tidy little cottage beside an apple orchard.\n",
      "         * Linene Graywind runs a trading post.\n",
      "         * Harbin Wester is the townmaster of Phandalin.\n",
      "         * Terrill Bloodscar is a human ruffian who wears a grimy scarlet cloak and is a member of the Redbrand ruffians.\n",
      "\n",
      "You can interact with them in the following ways:\n",
      "\n",
      "1. You can ask them about the recent events in Phandalin, such as the arrival of the Redbrand ruffians.\n",
      "2. You can ask them about the rumors of a powerful artifact hidden somewhere in the town.\n",
      "3. You can ask them about the current economic situation in Phandalin and if there are any job opportunities available.\n",
      "4. You can ask them about the recent disappearance of several townspeople and if they have any information about it.\n",
      "5. You can ask them about the rumors of a dark force that is said to be manipulating the town from behind the scenes.\n",
      "\n",
      "Please choose one of the above options by typing the corresponding number.\n",
      "end\n"
     ]
    },
    {
     "name": "stderr",
     "output_type": "stream",
     "text": [
      "/mnt/iMVR/junde/miniconda3/lib/python3.11/site-packages/transformers/pipelines/base.py:1090: UserWarning: You seem to be using the pipelines sequentially on GPU. In order to maximize efficiency please use a dataset\n",
      "  warnings.warn(\n"
     ]
    },
    {
     "name": "stdout",
     "output_type": "stream",
     "text": [
      "full action logic\n",
      "What would you like to do?\n",
      "end\n"
     ]
    },
    {
     "name": "stderr",
     "output_type": "stream",
     "text": [
      "/mnt/iMVR/junde/miniconda3/lib/python3.11/site-packages/transformers/pipelines/base.py:1090: UserWarning: You seem to be using the pipelines sequentially on GPU. In order to maximize efficiency please use a dataset\n",
      "  warnings.warn(\n"
     ]
    },
    {
     "name": "stdout",
     "output_type": "stream",
     "text": [
      "action result is:\n",
      " \n",
      "Mind Tree of people:  Daran Edermath\n"
     ]
    },
    {
     "name": "stderr",
     "output_type": "stream",
     "text": [
      "/mnt/iMVR/junde/miniconda3/lib/python3.11/site-packages/transformers/pipelines/base.py:1090: UserWarning: You seem to be using the pipelines sequentially on GPU. In order to maximize efficiency please use a dataset\n",
      "  warnings.warn(\n",
      "/mnt/iMVR/junde/miniconda3/lib/python3.11/site-packages/transformers/pipelines/base.py:1090: UserWarning: You seem to be using the pipelines sequentially on GPU. In order to maximize efficiency please use a dataset\n",
      "  warnings.warn(\n"
     ]
    },
    {
     "name": "stdout",
     "output_type": "stream",
     "text": [
      "agent_summary_description is: Name: Daran Edermath (age: 55)\n",
      "Innate traits: Stubborn, upright, inarticulate, calm\n",
      "Daran is a retired adventurer who lives in a tidy little cottage beside an apple orchard. A fit, silver-haired half-elf well over a hundred years old, Daran is a fighter who served as a marshal and herald for many years in the lands of the Dragon Coast, far to the southeast. Upon retiring, he returned to the Neverwinter region, his original home.\n",
      "end\n",
      "relevant_mem is: + Toblen Stonehill is mean and gossipy, and is selfish.\n",
      "         + Linene Graywind is competent, forbearing, self-disciplined, and impressionable.\n",
      "         + Harbin Wester is pompous.\n",
      "         + Terrill Bloodscar is ignorant and wants to rob and kill adventurers.\n",
      "         + Daran Edermath is a human rogue (age: 35).\n",
      "         + Phandalin Town Square is a public area in the town of Phandalin.\n",
      "         + Adventurers are a group of people who have come to Phandalin seeking work or adventure.\n",
      "         + Redbrand ruffians are a group of bandits who operate in the area around Phandalin.\n",
      "         + Phandalin has no functioning government, but the townsfolk elect someone to serve as townmaster each year.\n",
      "         + The townmaster serves as a judge in minor disputes and keeps any records that need to be kept.\n",
      "         + Phandalin has a trading post owned by Toblen Stonehill.\n",
      "         + Phandalin has a townsquare.\n",
      "         + Phandalin has a functioning government.\n",
      "         + Phandalin has a mayor.\n",
      "         + Phandalin has a town council.\n",
      "         + Phandalin has a town guard.\n",
      "         + Phandalin has a jail.\n",
      "         + Phandalin has a tavern.\n",
      "         + Phandalin has a blacksmith.\n",
      "         + Phandalin has a bakery.\n",
      "         + Phandalin has a market.\n",
      "         + Phandalin has a mill.\n",
      "         + Phandalin has a stable.\n",
      "         + Phandalin has a temple.\n",
      "         + Phandalin has a graveyard.\n",
      "         + Phandalin has a inn.\n",
      "         + Phandalin has a school.\n",
      "         + Phandalin has a library.\n",
      "         + Phandalin has a barber shop.\n",
      "         + Phandalin has a tailor.\n",
      "         + Phandalin has a butcher.\n",
      "         + Phandalin has a brewery.\n",
      "         + Phandalin has a distillery.\n",
      "         + Phandalin has a wagon train.\n",
      "         + Phandalin has a caravan.\n",
      "         + Phandalin has a ferry.\n",
      "         + Phandalin has a port.\n",
      "         + Phandalin has a dock.\n",
      "         + Phandalin has a harbor.\n",
      "         + Phandalin has a fish market.\n",
      "         + Phandalin has a market stall.\n",
      "         + Phandalin has a cart.\n",
      "         + Phandalin has a wagon.\n",
      "         + Phandalin has a coach.\n",
      "         + Phandalin has a stagecoach.\n",
      "         + Phandalin has a team of horses.\n",
      "         + Phandalin has a stable hand.\n",
      "         + Phandalin has a farrier.\n",
      "         + Phandalin has a blacksmith apprentice.\n",
      "         + Phandalin has a baker's apprentice.\n",
      "         + Phandalin has a miller's apprentice.\n",
      "         + Phandalin has a brewer's apprentice.\n",
      "         + Phandalin has a distiller's apprentice.\n",
      "         + Phandalin has a tavern maid.\n",
      "         + Phandalin has a tavern chef.\n",
      "         + Phandalin has a tavern proprietor.\n",
      "         + Phandalin has a town guard captain.\n",
      "         + Phandalin has a town guard sergeant.\n",
      "         + Phandalin has a town guard private.\n",
      "         + Phandalin has a town guard recruit.\n",
      "         + Phandalin has a town guard armory.\n",
      "         + Phandalin has a town guard barracks.\n",
      "         + Phandalin has a town guard headquarters.\n",
      "         + Phandalin has a town guard training ground.\n",
      "         + Phandalin has a town guard drill field.\n",
      "         + Phandalin has a town guard stables.\n",
      "         + Phandalin has a town guard armory.\n",
      "         + Phandalin has a town guard barracks.\n",
      "         + Phandalin has a town guard headquarters.\n",
      "         + Phandalin has a town guard training ground.\n",
      "         + Phandalin has a town guard drill field.\n",
      "         + Phandalin has a town guard stables.\n",
      "         + Phandalin has a town guard armory.\n",
      "         + Phandalin has a town guard barracks.\n",
      "         + Phandalin has a town guard headquarters.\n",
      "         + Phandalin has a town guard training ground.\n",
      "         + Phandalin has a town guard drill field.\n",
      "         + Phandalin has a town guard stables.\n",
      "         + Phandalin has a town guard armory.\n",
      "         + Phandalin has a town guard barracks.\n",
      "         + Phandalin has a town guard headquarters.\n",
      "         + Phandalin has a town guard training ground.\n",
      "         + Phandalin has a town guard drill field.\n",
      "         + Phandalin has a town guard stables.\n",
      "         + Phandalin has a town guard armory.\n",
      "         + Phandalin has a town guard barracks.\n",
      "         + Phandalin has a town guard headquarters.\n",
      "         + Phandalin has a town guard training ground.\n",
      "         + Phandalin has a town guard drill field.\n",
      "         + Phandalin has a town guard stables.\n",
      "         + Phandalin has a town guard armory.\n",
      "         + Phandalin has a town guard barracks.\n",
      "         + Phandalin has a town guard headquarters.\n",
      "         + Phandalin has a town guard training ground.\n",
      "         + Phandalin has a town guard drill field.\n",
      "         + Phandalin has a town guard stables.\n",
      "         + Phandalin has a town guard armory.\n",
      "         + Phandalin has a town guard barracks.\n",
      "         + Phandalin has a town guard headquarters.\n",
      "         + Phandalin has a town guard training ground.\n",
      "         + Phandalin has a town guard drill field.\n",
      "         + Phandalin has a town guard stables.\n",
      "         + Phandalin has a town guard armory.\n",
      "         + Phandalin has a town guard barracks.\n",
      "         + Phandalin has a town guard headquarters.\n",
      "         + Phandalin has a town guard training ground.\n",
      "         + Phandalin has a town guard drill field.\n",
      "         + Phandalin has a town guard stables.\n",
      "         + Phandalin has a town guard armory.\n",
      "         + Phandalin has a town guard barracks.\n",
      "         + Phandalin has a town guard headquarters.\n",
      "         + Phandalin has a town guard training ground.\n",
      "         + Phandalin has a town guard drill field.\n",
      "         + Phandalin has a town guard stables.\n",
      "         + Phandalin has a town guard armory.\n",
      "         + Phandalin has a town guard barracks.\n",
      "         + Phandalin has a town guard headquarters.\n",
      "         + Phandalin has a town guard training ground.\n",
      "         + Phandalin has a town guard drill field.\n",
      "         + Phandalin has a town guard stables.\n",
      "         + Phandalin has a town guard armory.\n",
      "         + Phandalin has a town guard barracks.\n",
      "         + Phandalin has a town guard headquarters.\n",
      "         + Phandalin has a town guard training ground.\n",
      "         + Phandalin has a town guard drill field.\n",
      "         + Phandalin has a town guard stables.\n",
      "         + Phandalin has a town guard armory.\n",
      "         + Phandalin has a town guard barracks.\n",
      "         + Phandalin has a town guard headquarters.\n",
      "         + Phandalin has a town guard training ground.\n",
      "         + Phandalin has a town guard drill field.\n",
      "         + Phandalin has a town guard stables.\n",
      "         + Phandalin has a town guard armory.\n",
      "         + Phandalin has a town guard barracks.\n",
      "         + Phandalin has a town guard headquarters.\n",
      "         + Phandalin has a town guard training ground.\n",
      "         + Phandalin has a town guard drill field.\n",
      "         + Phandalin has a town guard stables.\n",
      "         + Phandalin has a town guard armory.\n",
      "         + Phandalin has a town guard barracks.\n",
      "         + Phandalin has a town guard headquarters.\n",
      "         + Phandalin has a town guard training ground.\n",
      "         + Phandalin has a town guard drill field.\n",
      "         + Phandalin has a town guard stables.\n",
      "         + Phandalin has a town guard armory.\n",
      "         + Phandalin has a town guard barracks.\n",
      "         + Phandalin has a town guard headquarters.\n",
      "         + Phandalin has a town guard training ground.\n",
      "         + Phandalin has a town guard drill field.\n",
      "         + Phandalin has a town guard stables.\n",
      "         + Phandalin has a town guard armory.\n",
      "         + Phandalin has a town guard barracks.\n",
      "         + Phandalin has a town guard headquarters.\n",
      "         + Phandalin has a town guard training ground.\n",
      "         + Phandalin has a town guard drill field.\n",
      "         + Phandalin has a town guard stables.\n",
      "         + Phandalin has a town guard armory.\n",
      "         + Phandalin has a town guard barracks.\n",
      "         + Phandalin has a town guard headquarters.\n",
      "         + Phandalin has a town guard training ground.\n",
      "         + Phandalin has a town guard drill field.\n",
      "         + Phandalin has a town guard stables.\n",
      "         + Phandalin has a town guard\n",
      "end\n"
     ]
    },
    {
     "name": "stderr",
     "output_type": "stream",
     "text": [
      "/mnt/iMVR/junde/miniconda3/lib/python3.11/site-packages/transformers/pipelines/base.py:1090: UserWarning: You seem to be using the pipelines sequentially on GPU. In order to maximize efficiency please use a dataset\n",
      "  warnings.warn(\n"
     ]
    },
    {
     "name": "stdout",
     "output_type": "stream",
     "text": [
      "full action logic\n",
      "Please choose one of the options above.\n",
      "end\n"
     ]
    },
    {
     "name": "stderr",
     "output_type": "stream",
     "text": [
      "/mnt/iMVR/junde/miniconda3/lib/python3.11/site-packages/transformers/pipelines/base.py:1090: UserWarning: You seem to be using the pipelines sequentially on GPU. In order to maximize efficiency please use a dataset\n",
      "  warnings.warn(\n"
     ]
    },
    {
     "name": "stdout",
     "output_type": "stream",
     "text": [
      "action result is:\n",
      " \n",
      "Mind Tree of people:  Linene Graywind\n"
     ]
    },
    {
     "name": "stderr",
     "output_type": "stream",
     "text": [
      "/mnt/iMVR/junde/miniconda3/lib/python3.11/site-packages/transformers/pipelines/base.py:1090: UserWarning: You seem to be using the pipelines sequentially on GPU. In order to maximize efficiency please use a dataset\n",
      "  warnings.warn(\n",
      "/mnt/iMVR/junde/miniconda3/lib/python3.11/site-packages/transformers/pipelines/base.py:1090: UserWarning: You seem to be using the pipelines sequentially on GPU. In order to maximize efficiency please use a dataset\n",
      "  warnings.warn(\n"
     ]
    },
    {
     "name": "stdout",
     "output_type": "stream",
     "text": [
      "agent_summary_description is: Name: Linene Graywind (age: 38)\n",
      "Innate traits: competent, forbearing, self-discipline, impressionable \n",
      "Linene runs a trading post.\n",
      "end\n",
      "relevant_mem is: * Linene Graywind is a half-elf rogue who is known to be cunning and resourceful.\n",
      "         * Phandalin is a small town in the Neverwinter region, with a population of around 1,000 people.\n",
      "         * The town has a functioning government, with a townmaster who is elected by the townsfolk each year.\n",
      "         * The Redbrand ruffians are a group of thugs and criminals who are active in the area.\n",
      "         * Toblen Stonehill is a mean and gossipy old man who owns a trading post in the town square.\n",
      "         * Daran Edermath is a retired adventurer who lives in a tidy little cottage beside an apple orchard.\n",
      "         * Harbin Wester is the pompous townmaster of Phandalin, who serves as a judge in minor disputes and keeps any records that need to be kept.\n",
      "         * Terrill Bloodscar is a human ruffian who is a member of the Redbrand ruffians and doesn't like adventurers, and wants to rob and kill them.\n",
      "\n",
      "What would you like to do?\n",
      "end\n"
     ]
    },
    {
     "name": "stderr",
     "output_type": "stream",
     "text": [
      "/mnt/iMVR/junde/miniconda3/lib/python3.11/site-packages/transformers/pipelines/base.py:1090: UserWarning: You seem to be using the pipelines sequentially on GPU. In order to maximize efficiency please use a dataset\n",
      "  warnings.warn(\n"
     ]
    },
    {
     "name": "stdout",
     "output_type": "stream",
     "text": [
      "full action logic\n",
      "SAY: \"What can I do for you, Toblen?\"\n",
      "end\n"
     ]
    },
    {
     "name": "stderr",
     "output_type": "stream",
     "text": [
      "/mnt/iMVR/junde/miniconda3/lib/python3.11/site-packages/transformers/pipelines/base.py:1090: UserWarning: You seem to be using the pipelines sequentially on GPU. In order to maximize efficiency please use a dataset\n",
      "  warnings.warn(\n"
     ]
    },
    {
     "name": "stdout",
     "output_type": "stream",
     "text": [
      "action result is:\n",
      "Linene Graywind said \"What can I do for you, Toblen?\"\n",
      "Mind Tree of people:  Harbin Wester\n"
     ]
    },
    {
     "name": "stderr",
     "output_type": "stream",
     "text": [
      "/mnt/iMVR/junde/miniconda3/lib/python3.11/site-packages/transformers/pipelines/base.py:1090: UserWarning: You seem to be using the pipelines sequentially on GPU. In order to maximize efficiency please use a dataset\n",
      "  warnings.warn(\n",
      "/mnt/iMVR/junde/miniconda3/lib/python3.11/site-packages/transformers/pipelines/base.py:1090: UserWarning: You seem to be using the pipelines sequentially on GPU. In order to maximize efficiency please use a dataset\n",
      "  warnings.warn(\n"
     ]
    },
    {
     "name": "stdout",
     "output_type": "stream",
     "text": [
      "agent_summary_description is: Name: Harbin Wester (age: 40)\n",
      "Innate traits: pompous\n",
      "Harbin is the townmaster of Phandalin. A pompous, old food. Phandalin has no functioning government, but the townsfolk elect someone to serve as townmaster each year. The townmaster serves as a judge in minor disputes and keeps any records that need to be kept.\n",
      "end\n",
      "relevant_mem is: * You are in Phandalin Town Square\n",
      "         * You know the following about people: Toblen Stonehill, Daran Edermath, Linene Graywind, Terrill Bloodscar\n",
      "         * You are Harbin Wester\n",
      "         * It is currently 2:00 PM\n",
      "         * You are in the middle of calculating the tax of the town\n",
      "         * You are wearing a simple, yet elegant, black and white robe\n",
      "         * You have a pair of thick, black-rimmed glasses perched on the end of your nose\n",
      "         * You have a small, leather-bound book and a quill in your belt pouch\n",
      "         * You are standing in the middle of the town square, facing the north\n",
      "         * The sky is clear and sunny, with a few white clouds scattered about\n",
      "         * The temperature is mild, around 60 degrees Fahrenheit\n",
      "         * The air is fresh and clean, with a hint of apple orchard in the distance\n",
      "         * There are no other NPCs in the area, just you and the four individuals you mentioned\n",
      "         * You are in a state of calm and focus, fully immersed in your work\n",
      "         * You have a stern expression on your face, as if you are concentrating deeply on your calculations\n",
      "         * You are not aware of any other events or distractions happening in the area\n",
      "         * You are not aware of any other NPCs in the area, just the four individuals you mentioned\n",
      "         * You are not aware of any obstacles or challenges that may hinder your work\n",
      "         * You are not aware of any other locations or areas nearby\n",
      "         * You are not aware of any other characters or creatures in the area\n",
      "         * You are not aware of any other plot points or story elements in the area\n",
      "         * You are not aware of any other quests or missions in the area\n",
      "         * You are not aware of any other NPCs with their own agendas or motivations in the area\n",
      "         * You are not aware of any other secrets or mysteries in the area\n",
      "         * You are not aware of any other clues or hints in the area\n",
      "         * You are not aware of any other items or objects in the area\n",
      "         * You are not aware of any other events or occurrences in the area\n",
      "         * You are not aware of any other NPCs with their own personalities or traits in the area\n",
      "         * You are not aware of any other NPCs with their own motivations or goals in the area\n",
      "         * You are not aware of any other NPCs with their own backstory or history in the area\n",
      "         * You are not aware of any other NPCs with their own personality or quirks in the area\n",
      "         * You are not aware of any other NPCs with their own relationships or dynamics in the area\n",
      "         * You are not aware of any other NPCs with their own secrets or lies in the area\n",
      "         * You are not aware of any other NPCs with their own mysteries or unsolved crimes in the area\n",
      "         * You are not aware of any other NPCs with their own supernatural or paranormal abilities in the area\n",
      "         * You are not aware of any other NPCs with their own magical or mystical powers in the area\n",
      "         * You are not aware of any other NPCs with their own hidden agendas or ulterior motives in the area\n",
      "         * You are not aware of any other NPCs with their own conflicting goals or interests in the area\n",
      "         * You are not aware of any other NPCs with their own conflicting personalities or traits in the area\n",
      "         * You are not aware of any other NPCs with their own conflicting motivations or goals in the area\n",
      "         * You are not aware of any other NPCs with their own conflicting backstory or history in the area\n",
      "         * You are not aware of any other NPCs with their own conflicting personality or quirks in the area\n",
      "         * You are not aware of any other NPCs with their own conflicting relationships or dynamics in the area\n",
      "         * You are not aware of any other NPCs with their own conflicting secrets or lies in the area\n",
      "         * You are not aware of any other NPCs with their own conflicting mysteries or unsolved crimes in the area\n",
      "         * You are not aware of any other NPCs with their own conflicting supernatural or paranormal abilities in the area\n",
      "         * You are not aware of any other NPCs with their own conflicting magical or mystical powers in the area\n",
      "         * You are not aware of any other NPCs with their own conflicting hidden agendas or ulterior motives in the area\n",
      "         * You are not aware of any other NPCs with their own conflicting goals or interests in the area\n",
      "         * You are not aware of any other NPCs with their own conflicting personalities or traits in the area\n",
      "         * You are not aware of any other NPCs with their own conflicting motivations or goals in the area\n",
      "         * You are not aware of any other NPCs with their own conflicting backstory or history in the area\n",
      "         * You are not aware of any other NPCs with their own conflicting personality or quirks in the area\n",
      "         * You are not aware of any other NPCs with their own conflicting relationships or dynamics in the area\n",
      "         * You are not aware of any other NPCs with their own conflicting secrets or lies in the area\n",
      "         * You are not aware of any other NPCs with their own conflicting mysteries or unsolved crimes in the area\n",
      "         * You are not aware of any other NPCs with their own conflicting supernatural or paranormal abilities in the area\n",
      "         * You are not aware of any other NPCs with their own conflicting magical or mystical powers in the area\n",
      "         * You are not aware of any other NPCs with their own conflicting hidden agendas or ulterior motives in the area\n",
      "         * You are not aware of any other NPCs with their own conflicting goals or interests in the area\n",
      "         * You are not aware of any other NPCs with their own conflicting personalities or traits in the area\n",
      "         * You are not aware of any other NPCs with their own conflicting motivations or goals in the area\n",
      "         * You are not aware of any other NPCs with their own conflicting backstory or history in the area\n",
      "         * You are not aware of any other NPCs with their own conflicting personality or quirks in the area\n",
      "         * You are not aware of any other NPCs with their own conflicting relationships or dynamics in the area\n",
      "         * You are not aware of any other NPCs with their own conflicting secrets or lies in the area\n",
      "         * You are not aware of any other NPCs with their own conflicting mysteries or unsolved crimes in the area\n",
      "         * You are not aware of any other NPCs with their own conflicting supernatural or paranormal abilities in the area\n",
      "         * You are not aware of any other NPCs with their own conflicting magical or mystical powers in the area\n",
      "         * You are not aware of any other NPCs with their own conflicting hidden agendas or ulterior motives in the area\n",
      "         * You are not aware of any other NPCs with their own conflicting goals or interests in the area\n",
      "         * You are not aware of any other NPCs with their own conflicting personalities or traits in the area\n",
      "         * You are not aware of any other NPCs with their own conflicting motivations or goals in the area\n",
      "         * You are not aware of any other NPCs with their own conflicting backstory or history in the area\n",
      "         * You are not aware of any other NPCs with their own conflicting personality or quirks in the area\n",
      "         * You are not aware of any other NPCs with their own conflicting relationships or dynamics in the area\n",
      "         * You are not aware of any other NPCs with their own conflicting secrets or lies in the area\n",
      "         * You are not aware of any other NPCs with their own conflicting mysteries or unsolved crimes in the area\n",
      "         * You are not aware of any other NPCs with their own conflicting supernatural or paranormal abilities in the area\n",
      "         * You are not aware of any other NPCs with their own conflicting magical or mystical powers in the area\n",
      "         * You are not aware of any other NPCs with their own conflicting hidden agendas or ulterior motives in the area\n",
      "         * You are not aware of any other NPCs\n",
      "end\n"
     ]
    },
    {
     "name": "stderr",
     "output_type": "stream",
     "text": [
      "/mnt/iMVR/junde/miniconda3/lib/python3.11/site-packages/transformers/pipelines/base.py:1090: UserWarning: You seem to be using the pipelines sequentially on GPU. In order to maximize efficiency please use a dataset\n",
      "  warnings.warn(\n"
     ]
    },
    {
     "name": "stdout",
     "output_type": "stream",
     "text": [
      "full action logic\n",
      "Please provide your response.\n",
      "end\n"
     ]
    },
    {
     "name": "stderr",
     "output_type": "stream",
     "text": [
      "/mnt/iMVR/junde/miniconda3/lib/python3.11/site-packages/transformers/pipelines/base.py:1090: UserWarning: You seem to be using the pipelines sequentially on GPU. In order to maximize efficiency please use a dataset\n",
      "  warnings.warn(\n"
     ]
    },
    {
     "name": "stdout",
     "output_type": "stream",
     "text": [
      "action result is:\n",
      " \n",
      "Mind Tree of people:  Terrill Bloodscar\n"
     ]
    },
    {
     "name": "stderr",
     "output_type": "stream",
     "text": [
      "/mnt/iMVR/junde/miniconda3/lib/python3.11/site-packages/transformers/pipelines/base.py:1090: UserWarning: You seem to be using the pipelines sequentially on GPU. In order to maximize efficiency please use a dataset\n",
      "  warnings.warn(\n",
      "/mnt/iMVR/junde/miniconda3/lib/python3.11/site-packages/transformers/pipelines/base.py:1090: UserWarning: You seem to be using the pipelines sequentially on GPU. In order to maximize efficiency please use a dataset\n",
      "  warnings.warn(\n"
     ]
    },
    {
     "name": "stdout",
     "output_type": "stream",
     "text": [
      "agent_summary_description is: Name: Terrill Bloodscar (age: 16)\n",
      "Innate traits: ignorant\n",
      "Terrill is a human ruffian. He wears a grimy scarlet cloak. He is a member of the Redbrand ruffians. He doesn't like adventurers, and wants to rob and kill them.\n",
      "end\n",
      "relevant_mem is: * Terrill Bloodscar is in Phandalin Town Square.\n",
      "         * Toblen Stonehill, Daran Edermath, Linene Graywind, and Harbin Wester are also in the town square.\n",
      "         * It is currently 2:00 PM.\n",
      "         * Terrill has the following information about the people in the town square: Toblen Stonehill: mean, gossipy, arrogant, selfish. Owns a trading post. Daran Edermath: Stubborn, upright, inarticulate, calm. A retired adventurer who lives in a tidy little cottage beside an apple orchard. Linene Graywind: competent, forbearing, self-discipline, impressionable. Runs a trading post. Harbin Wester: pompous. The townmaster of Phandalin.\n",
      "         * Terrill is a level 1 character with the following abilities: Strength 10, Dexterity 14, Constitution 12, Intelligence 16, Wisdom 10, Charisma 8.\n",
      "         * Terrill's inventory includes: A potion of healing, a short sword, a shield, and 10 gold pieces.\n",
      "         * Terrill's goal is to find a way to get rid of the goblin problem in Phandalin.\n",
      "\n",
      "What would you like to do, Terrill?\n",
      "end\n"
     ]
    },
    {
     "name": "stderr",
     "output_type": "stream",
     "text": [
      "/mnt/iMVR/junde/miniconda3/lib/python3.11/site-packages/transformers/pipelines/base.py:1090: UserWarning: You seem to be using the pipelines sequentially on GPU. In order to maximize efficiency please use a dataset\n",
      "  warnings.warn(\n"
     ]
    },
    {
     "name": "stdout",
     "output_type": "stream",
     "text": [
      "full action logic\n",
      "If you want to do something else, like move or interact with someone else, please let me know.\n",
      "end\n"
     ]
    },
    {
     "name": "stderr",
     "output_type": "stream",
     "text": [
      "/mnt/iMVR/junde/miniconda3/lib/python3.11/site-packages/transformers/pipelines/base.py:1090: UserWarning: You seem to be using the pipelines sequentially on GPU. In order to maximize efficiency please use a dataset\n",
      "  warnings.warn(\n"
     ]
    },
    {
     "name": "stdout",
     "output_type": "stream",
     "text": [
      "action result is:\n",
      " \n",
      "In global time 4\n",
      "Mind Tree of people:  Toblen Stonehill\n"
     ]
    },
    {
     "name": "stderr",
     "output_type": "stream",
     "text": [
      "/mnt/iMVR/junde/miniconda3/lib/python3.11/site-packages/transformers/pipelines/base.py:1090: UserWarning: You seem to be using the pipelines sequentially on GPU. In order to maximize efficiency please use a dataset\n",
      "  warnings.warn(\n",
      "/mnt/iMVR/junde/miniconda3/lib/python3.11/site-packages/transformers/pipelines/base.py:1090: UserWarning: You seem to be using the pipelines sequentially on GPU. In order to maximize efficiency please use a dataset\n",
      "  warnings.warn(\n"
     ]
    },
    {
     "name": "stdout",
     "output_type": "stream",
     "text": [
      "agent_summary_description is: Name: Toblen Stonehill (age: 69)\n",
      "Innate traits: mean, gossipy, arrogant, selfish\n",
      "Toblen owns a trading post.\n",
      "end\n",
      "relevant_mem is: * Toblen Stonehill: You are Toblen Stonehill.You are currently in Phandalin Town Square with the following description: Town square of the town of Phandalin..       It is currently 4:00. The following people are in this area: Daran Edermath, Linene Graywind, Harbin Wester, Terrill Bloodscar. You can interact with them. You know the following about people: Daran Edermath: Name: Daran Edermath (age: 55)\n",
      "Innate traits: Stubborn, upright, inarticulate, calm\n",
      "Daran is a retired adventurer who lives in a tidy little cottage beside an apple orchard. A fit, silver-haired half-elf well over a hundred years old, Daran is a fighter who served as a marshal and herald for many years in the lands of the Dragon Coast, far to the southeast. Upon retiring, he returned to the Neverwinter region, his original home.. Linene Graywind: Name: Linene Graywind (age: 38)\n",
      "Innate traits: competent, forbearing, self-discipline, impressionable \n",
      "Linene runs a trading post.. Harbin Wester: Name: Harbin Wester (age: 40)\n",
      "Innate traits: pompous\n",
      "Harbin is the townmaster of Phandalin. A pompous, old food. Phandalin has no functioning government, but the townsfolk elect someone to serve as townmaster each year. The townmaster serves as a judge in minor disputes and keeps any records that need to be kept.. Terrill Bloodscar: Name: Terrill Bloodscar (age: 16)\n",
      "Innate traits: ignorant\n",
      "Terrill is a human ruffian. He wears a grimy scarlet cloak. He is a member of the Redbrand ruffians. He doesn't like adventurers, and wants to rob and kill them.\n",
      "# Current action:\n",
      "# You can choose to:\n",
      "# 1. Ask Daran Edermath about his life as a marshal and herald.\n",
      "# 2. Ask Linene Graywind about her trading post.\n",
      "# 3. Ask Harbin Wester about his role as townmaster.\n",
      "# 4. Ask Terrill Bloodscar about the Redbrand ruffians.\n",
      "# 5. Interact with the environment.\n",
      "# 6. Go to a different location.\n",
      "# Choose a number or describe a different action.\n",
      "end\n"
     ]
    },
    {
     "name": "stderr",
     "output_type": "stream",
     "text": [
      "/mnt/iMVR/junde/miniconda3/lib/python3.11/site-packages/transformers/pipelines/base.py:1090: UserWarning: You seem to be using the pipelines sequentially on GPU. In order to maximize efficiency please use a dataset\n",
      "  warnings.warn(\n"
     ]
    },
    {
     "name": "stdout",
     "output_type": "stream",
     "text": [
      "full action logic\n",
      "Toblen Stonehill's reaction:\n",
      "REACT: Toblen Stonehill grumbles to himself, clearly displeased with the current situation.\n",
      "end\n"
     ]
    },
    {
     "name": "stderr",
     "output_type": "stream",
     "text": [
      "/mnt/iMVR/junde/miniconda3/lib/python3.11/site-packages/transformers/pipelines/base.py:1090: UserWarning: You seem to be using the pipelines sequentially on GPU. In order to maximize efficiency please use a dataset\n",
      "  warnings.warn(\n"
     ]
    },
    {
     "name": "stdout",
     "output_type": "stream",
     "text": [
      "action result is:\n",
      "Toblen Stonehill grumbles to himself, clearly displeased with the current situation.\n",
      "Mind Tree of people:  Daran Edermath\n"
     ]
    },
    {
     "name": "stderr",
     "output_type": "stream",
     "text": [
      "/mnt/iMVR/junde/miniconda3/lib/python3.11/site-packages/transformers/pipelines/base.py:1090: UserWarning: You seem to be using the pipelines sequentially on GPU. In order to maximize efficiency please use a dataset\n",
      "  warnings.warn(\n",
      "/mnt/iMVR/junde/miniconda3/lib/python3.11/site-packages/transformers/pipelines/base.py:1090: UserWarning: You seem to be using the pipelines sequentially on GPU. In order to maximize efficiency please use a dataset\n",
      "  warnings.warn(\n"
     ]
    },
    {
     "name": "stdout",
     "output_type": "stream",
     "text": [
      "agent_summary_description is: Name: Daran Edermath (age: 55)\n",
      "Innate traits: Stubborn, upright, inarticulate, calm\n",
      "Daran is a retired adventurer who lives in a tidy little cottage beside an apple orchard. A fit, silver-haired half-elf well over a hundred years old, Daran is a fighter who served as a marshal and herald for many years in the lands of the Dragon Coast, far to the southeast. Upon retiring, he returned to the Neverwinter region, his original home.\n",
      "end\n",
      "relevant_mem is: * You are Daran Edermath.\n",
      "         * You are in Phandalin Town Square.\n",
      "         * It is currently 3:00 PM.\n",
      "         * The following people are in this area: Toblen Stonehill, Linene Graywind, Harbin Wester, Terrill Bloodscar.\n",
      "         * You know the following about people: Toblen Stonehill: Name: Toblen Stonehill (age: 69)\n",
      "Innate traits: mean, gossipy, arrogant, selfish\n",
      "Toblen owns a trading post.. Linene Graywind: Name: Linene Graywind (age: 38)\n",
      "Innate traits: competent, forbearing, self-discipline, impressionable \n",
      "Linene runs a trading post.. Harbin Wester: Name: Harbin Wester (age: 40)\n",
      "Innate traits: pompous\n",
      "Harbin is the townmaster of Phandalin. A pompous, old food. Phandalin has no functioning government, but the townsfolk elect someone to serve as townmaster each year. The townmaster serves as a judge in minor disputes and keeps any records that need to be kept.. Terrill Bloodscar: Name: Terrill Bloodscar (age: 16)\n",
      "Innate traits: ignorant\n",
      "Terrill is a human ruffian. He wears a grimy scarlet cloak. He is a member of the Redbrand ruffians. He doesn't like adventurers, and wants to rob and kill them.\n",
      "You can interact with them in the following ways:\n",
      "- Say something to Terrill Bloodscar: \"Ah, good day to you, good sir. What brings you to Phandalin?\"\n",
      "- Say something to Toblen Stonehill: \"Ah, good day to you, good sir. What brings you to Phandalin?\"\n",
      "- Say something to Linene Graywind: \"Ah, good day to you, good sir. What brings you to Phandalin?\"\n",
      "- Say something to Harbin Wester: \"Ah, good day to you, good sir. What brings you to Phandalin?\"\n",
      "- Say something to Terrill Bloodscar: \"Ah, good day to you, good sir. What brings you to Phandalin?\"\n",
      "- [December 08, 2023, 04:25 PM] You are Daran Edermath.You are currently in Phandalin Town Square with the following description: Town square of the town of Phandalin..       It is currently 4:00. The following people are in this area: Toblen Stonehill, Linene Graywind, Harbin Wester, Terrill Bloodscar. You can interact with them. You know the following about people: Toblen Stonehill: Name: Toblen Stonehill (age: 69)\n",
      "Innate traits: mean, gossipy, arrogant, selfish\n",
      "Toblen owns a trading post.. Linene Graywind: Name: Linene Graywind (age: 38)\n",
      "Innate traits: competent, forbearing, self-discipline, impressionable \n",
      "Linene runs a trading post.. Harbin Wester: Name: Harbin Wester (age: 40)\n",
      "Innate traits: pompous\n",
      "Harbin is the townmaster of Phandalin. A pompous, old food. Phandalin has no functioning government, but the townsfolk elect someone to serve as townmaster each year. The townmaster serves as a judge in minor disputes and keeps any records that need to be kept.. Terrill Bloodscar: Name: Terrill Bloodscar (age: 16)\n",
      "Innate traits: ignorant\n",
      "Terrill is a human ruffian. He wears a grimy scarlet cloak. He is a member of the Redbrand ruffians. He doesn't like adventurers, and wants to rob and kill them.\n",
      "You can interact with them in the following ways:\n",
      "- Say something to Terrill Bloodscar: \"Ah, good day to you, good sir. What brings you to Phandalin?\"\n",
      "- Say something to Toblen Stonehill: \"Ah, good day to you, good sir. What brings you to Phandalin?\"\n",
      "- Say something to Linene Graywind: \"Ah, good day to you, good sir. What brings you to Phandalin?\"\n",
      "- Say something to Harbin Wester: \"Ah, good day to you, good sir. What brings you to Phandalin?\"\n",
      "- Say something to Terrill Bloodscar: \"Ah, good day to you, good sir. What brings you to Phandalin?\"\n",
      "- [December 08, 2023, 04:14 PM] You are Daran Edermath.You are currently in Phandalin Town Square with the following description: Town square of the town of Phandalin..       It is currently 2:00. The following people are in this area: Toblen Stonehill, Linene Graywind, Harbin Wester, Terrill Bloodscar. You can interact with them. You know the following about people: Toblen Stonehill: Name: Toblen Stonehill (age: 69)\n",
      "Innate traits: mean, gossipy, arrogant, selfish\n",
      "Toblen owns a trading post.. Linene Graywind: Name: Linene Graywind (age: 38)\n",
      "Innate traits: competent, forbearing, self-discipline, impressionable \n",
      "Linene runs a trading post.. Harbin Wester: Name: Harbin Wester (age: 40)\n",
      "Innate traits: pompous\n",
      "Harbin is the townmaster of Phandalin. A pompous, old food. Phandalin has no functioning government, but the townsfolk elect someone to serve as townmaster each year. The townmaster serves as a judge in minor disputes and keeps any records that need to be kept.. Terrill Bloodscar: Name: Terrill Bloodscar (age: 16)\n",
      "Innate traits: ignorant\n",
      "Terrill is a human ruffian. He wears a grimy scarlet cloak. He is a member of the Redbrand ruffians. He doesn'\n",
      "end\n"
     ]
    },
    {
     "name": "stderr",
     "output_type": "stream",
     "text": [
      "/mnt/iMVR/junde/miniconda3/lib/python3.11/site-packages/transformers/pipelines/base.py:1090: UserWarning: You seem to be using the pipelines sequentially on GPU. In order to maximize efficiency please use a dataset\n",
      "  warnings.warn(\n"
     ]
    },
    {
     "name": "stdout",
     "output_type": "stream",
     "text": [
      "full action logic\n",
      "What would you like Daran Edermath to do?\n",
      "end\n"
     ]
    },
    {
     "name": "stderr",
     "output_type": "stream",
     "text": [
      "/mnt/iMVR/junde/miniconda3/lib/python3.11/site-packages/transformers/pipelines/base.py:1090: UserWarning: You seem to be using the pipelines sequentially on GPU. In order to maximize efficiency please use a dataset\n",
      "  warnings.warn(\n"
     ]
    },
    {
     "name": "stdout",
     "output_type": "stream",
     "text": [
      "action result is:\n",
      " \n",
      "Mind Tree of people:  Linene Graywind\n"
     ]
    },
    {
     "name": "stderr",
     "output_type": "stream",
     "text": [
      "/mnt/iMVR/junde/miniconda3/lib/python3.11/site-packages/transformers/pipelines/base.py:1090: UserWarning: You seem to be using the pipelines sequentially on GPU. In order to maximize efficiency please use a dataset\n",
      "  warnings.warn(\n",
      "/mnt/iMVR/junde/miniconda3/lib/python3.11/site-packages/transformers/pipelines/base.py:1090: UserWarning: You seem to be using the pipelines sequentially on GPU. In order to maximize efficiency please use a dataset\n",
      "  warnings.warn(\n"
     ]
    },
    {
     "name": "stdout",
     "output_type": "stream",
     "text": [
      "agent_summary_description is: Name: Linene Graywind (age: 38)\n",
      "Innate traits: competent, forbearing, self-discipline, impressionable \n",
      "Linene runs a trading post.\n",
      "end\n",
      "relevant_mem is: * You are Linene Graywind.\n",
      "         * You are in Phandalin Town Square.\n",
      "         * It is currently 3:00 PM.\n",
      "         * The following people are in this area: Toblen Stonehill, Daran Edermath, Harbin Wester, Terrill Bloodscar.\n",
      "         * You know the following about people: Toblen Stonehill: Name: Toblen Stonehill (age: 69)\n",
      "Innate traits: mean, gossipy, arrogant, selfish\n",
      "Toblen owns a trading post.. Daran Edermath: Name: Daran Edermath (age: 55)\n",
      "Innate traits: Stubborn, upright, inarticulate, calm\n",
      "Daran is a retired adventurer who lives in a tidy little cottage beside an apple orchard. A fit, silver-haired half-elf well over a hundred years old, Daran is a fighter who served as a marshal and herald for many years in the lands of the Dragon Coast, far to the southeast. Upon retiring, he returned to the Neverwinter region, his original home.. Harbin Wester: Name: Harbin Wester (age: 40)\n",
      "Innate traits: pompous\n",
      "Harbin is the townmaster of Phandalin. A pompous, old food. Phandalin has no functioning government, but the townsfolk elect someone to serve as townmaster each year. The townmaster serves as a judge in minor disputes and keeps any records that need to be kept.. Terrill Bloodscar: Name: Terrill Bloodscar (age: 16)\n",
      "Innate traits: ignorant\n",
      "Terrill is a human ruffian. He wears a grimy scarlet cloak. He is a member of the Redbrand ruffians. He doesn't like adventurers, and wants to rob and kill them.\n",
      "# Actions:\n",
      "# 1. React to Terrill Bloodscar's comment.\n",
      "# 2. Ask Toblen Stonehill about the town's recent events.\n",
      "# 3. Ask Daran Edermath about the town's recent events.\n",
      "# 4. Ask Harbin Wester about the town's recent events.\n",
      "# 5. Ask Terrill Bloodscar about the town's recent events.\n",
      "\n",
      "Choose a number to select an action.\n",
      "end\n"
     ]
    },
    {
     "name": "stderr",
     "output_type": "stream",
     "text": [
      "/mnt/iMVR/junde/miniconda3/lib/python3.11/site-packages/transformers/pipelines/base.py:1090: UserWarning: You seem to be using the pipelines sequentially on GPU. In order to maximize efficiency please use a dataset\n",
      "  warnings.warn(\n"
     ]
    },
    {
     "name": "stdout",
     "output_type": "stream",
     "text": [
      "full action logic\n",
      "What would Linene Graywind's reaction be to Terrill Bloodscar's comment?\n",
      "REACT: Linene Graywind's eyes widen in disbelief.\n",
      "end\n"
     ]
    },
    {
     "name": "stderr",
     "output_type": "stream",
     "text": [
      "/mnt/iMVR/junde/miniconda3/lib/python3.11/site-packages/transformers/pipelines/base.py:1090: UserWarning: You seem to be using the pipelines sequentially on GPU. In order to maximize efficiency please use a dataset\n",
      "  warnings.warn(\n"
     ]
    },
    {
     "name": "stdout",
     "output_type": "stream",
     "text": [
      "action result is:\n",
      "Linene Graywind Linene Graywind's eyes widen in disbelief.\n",
      "Mind Tree of people:  Harbin Wester\n"
     ]
    },
    {
     "name": "stderr",
     "output_type": "stream",
     "text": [
      "/mnt/iMVR/junde/miniconda3/lib/python3.11/site-packages/transformers/pipelines/base.py:1090: UserWarning: You seem to be using the pipelines sequentially on GPU. In order to maximize efficiency please use a dataset\n",
      "  warnings.warn(\n",
      "/mnt/iMVR/junde/miniconda3/lib/python3.11/site-packages/transformers/pipelines/base.py:1090: UserWarning: You seem to be using the pipelines sequentially on GPU. In order to maximize efficiency please use a dataset\n",
      "  warnings.warn(\n"
     ]
    },
    {
     "name": "stdout",
     "output_type": "stream",
     "text": [
      "agent_summary_description is: Name: Harbin Wester (age: 40)\n",
      "Innate traits: pompous\n",
      "Harbin is the townmaster of Phandalin. A pompous, old food. Phandalin has no functioning government, but the townsfolk elect someone to serve as townmaster each year. The townmaster serves as a judge in minor disputes and keeps any records that need to be kept.\n",
      "end\n",
      "relevant_mem is: (set: $harbin_westers_reaction to \"REACT: 'Calculating the tax of the town, indeed. *adjusts glasses* I hope these... individuals are not causing any trouble. *glares at Terrill* Phandalin needs order and stability, and I will not let any ruffians disrupt our peace.'\")\n",
      "         (set: $toblens_trait to \"mean, gossipy, arrogant, selfish\")\n",
      "         (set: $darans_trait to \"Stubborn, upright, inarticulate, calm\")\n",
      "         (set: $linenes_trait to \"competent, forbearing, self-discipline, impressionable\")\n",
      "         (set: $terrills_trait to \"ignorant\")\n",
      "         (set: $town_square to \"Town square of the town of Phandalin..\")\n",
      "         (set: $time to \"2:00\")\n",
      "         (set: $people to \"Toblen Stonehill, Daran Edermath, Linene Graywind, Terrill Bloodscar\")\n",
      "         (set: $harbin_westers_name to \"Harbin Wester\")\n",
      "         (set: $ Terrill_ Bloodscars_name to \"Terrill Bloodscar\")\n",
      "         (set: $Linene_Graywinds_name to \"Linene Graywind\")\n",
      "         (set: $Daran_Edermaths_name to \"Daran Edermath\")\n",
      "         (set: $Toblen_Stonehills_name to \"Toblen Stonehill\")\n",
      "\n",
      "# Context from memory:\n",
      "# - [December 08, 2023, 04:17 PM]\n",
      "\n",
      "# Relevant information:\n",
      "# - Phandalin Town Square\n",
      "# - Neverwinter region\n",
      "# - Dragon Coast\n",
      "# - Redbrand ruffians\n",
      "# - human ruffian\n",
      "# - grimy scarlet cloak\n",
      "# - retired adventurer\n",
      "# - tidy little cottage\n",
      "# - apple orchard\n",
      "# - upright\n",
      "# - inarticulate\n",
      "# - calm\n",
      "# - Stubborn\n",
      "# - mean\n",
      "# - gossipy\n",
      "# - arrogant\n",
      "# - selfish\n",
      "# - ignorant\n",
      "# - adventurers\n",
      "# - marshal and herald\n",
      "# - impressionable\n",
      "# - competent\n",
      "# - forbearing\n",
      "# - self-discipline\n",
      "# - Phandalin\n",
      "# - town square\n",
      "# - 2:00\n",
      "# - 3:00\n",
      "# - 4:00\n",
      "# - 4:12\n",
      "# - 4:17\n",
      "# - 4:21\n",
      "# - 4:23\n",
      "# - 4:27\n",
      "# - 4:29\n",
      "# - 4:30\n",
      "# - 4:40\n",
      "# - 4:42\n",
      "# - 4:43\n",
      "# - 4:47\n",
      "# - 4:49\n",
      "# - 4:50\n",
      "# - 4:51\n",
      "# - 4:52\n",
      "# - 4:53\n",
      "# - 4:54\n",
      "# - 4:55\n",
      "# - 4:56\n",
      "# - 4:57\n",
      "# - 4:58\n",
      "# - 4:59\n",
      "# - 5:00\n",
      "# - 5:01\n",
      "# - 5:02\n",
      "# - 5:03\n",
      "# - 5:04\n",
      "# - 5:05\n",
      "# - 5:06\n",
      "# - 5:07\n",
      "# - 5:08\n",
      "# - 5:09\n",
      "# - 5:10\n",
      "# - 5:11\n",
      "# - 5:12\n",
      "# - 5:13\n",
      "# - 5:14\n",
      "# - 5:15\n",
      "# - 5:16\n",
      "# - 5:17\n",
      "# - 5:18\n",
      "# - 5:19\n",
      "# - 5:20\n",
      "# - 5:21\n",
      "# - 5:22\n",
      "# - 5:23\n",
      "# - 5:24\n",
      "# - 5:25\n",
      "# - 5:26\n",
      "# - 5:27\n",
      "# - 5:28\n",
      "# - 5:29\n",
      "# - 5:30\n",
      "# - 5:31\n",
      "# - 5:32\n",
      "# - 5:33\n",
      "# - 5:34\n",
      "# - 5:35\n",
      "# - 5:36\n",
      "# - 5:37\n",
      "# - 5:38\n",
      "# -\n",
      "end\n"
     ]
    },
    {
     "name": "stderr",
     "output_type": "stream",
     "text": [
      "/mnt/iMVR/junde/miniconda3/lib/python3.11/site-packages/transformers/pipelines/base.py:1090: UserWarning: You seem to be using the pipelines sequentially on GPU. In order to maximize efficiency please use a dataset\n",
      "  warnings.warn(\n"
     ]
    },
    {
     "name": "stdout",
     "output_type": "stream",
     "text": [
      "full action logic\n",
      "REACT: 'Calculating the tax of the town, indeed. *adjusts glasses* I hope these... individuals are not causing any trouble. *glares at Terrill* Phandalin needs order and stability, and I will not let any ruffians disrupt our peace.'\n",
      "end\n"
     ]
    },
    {
     "name": "stderr",
     "output_type": "stream",
     "text": [
      "/mnt/iMVR/junde/miniconda3/lib/python3.11/site-packages/transformers/pipelines/base.py:1090: UserWarning: You seem to be using the pipelines sequentially on GPU. In order to maximize efficiency please use a dataset\n",
      "  warnings.warn(\n"
     ]
    },
    {
     "name": "stdout",
     "output_type": "stream",
     "text": [
      "action result is:\n",
      "Harbin Wester 'Calculating the tax of the town, indeed. *adjusts glasses* I hope these... individuals are not causing any trouble. *glares at Terrill* Phandalin needs order and stability, and I will not let any ruffians disrupt our peace.'\n",
      "Mind Tree of people:  Terrill Bloodscar\n"
     ]
    },
    {
     "name": "stderr",
     "output_type": "stream",
     "text": [
      "/mnt/iMVR/junde/miniconda3/lib/python3.11/site-packages/transformers/pipelines/base.py:1090: UserWarning: You seem to be using the pipelines sequentially on GPU. In order to maximize efficiency please use a dataset\n",
      "  warnings.warn(\n",
      "/mnt/iMVR/junde/miniconda3/lib/python3.11/site-packages/transformers/pipelines/base.py:1090: UserWarning: You seem to be using the pipelines sequentially on GPU. In order to maximize efficiency please use a dataset\n",
      "  warnings.warn(\n"
     ]
    },
    {
     "name": "stdout",
     "output_type": "stream",
     "text": [
      "agent_summary_description is: Name: Terrill Bloodscar (age: 16)\n",
      "Innate traits: ignorant\n",
      "Terrill is a human ruffian. He wears a grimy scarlet cloak. He is a member of the Redbrand ruffians. He doesn't like adventurers, and wants to rob and kill them.\n",
      "end\n",
      "relevant_mem is: * You are Terrill Bloodscar.\n",
      "         * You are in Phandalin Town Square.\n",
      "         * It is currently 2:00 PM.\n",
      "         * The following people are in this area: Toblen Stonehill, Daran Edermath, Linene Graywind, Harbin Wester.\n",
      "         * You know the following about people: Toblen Stonehill: Name: Toblen Stonehill (age: 69)\n",
      "Innate traits: mean, gossipy, arrogant, selfish\n",
      "Toblen owns a trading post.. Daran Edermath: Name: Daran Edermath (age: 55)\n",
      "Innate traits: Stubborn, upright, inarticulate, calm\n",
      "Daran is a retired adventurer who lives in a tidy little cottage beside an apple orchard. A fit, silver-haired half-elf well over a hundred years old, Daran is a fighter who served as a marshal and herald for many years in the lands of the Dragon Coast, far to the southeast. Upon retiring, he returned to the Neverwinter region, his original home.. Linene Graywind: Name: Linene Graywind (age: 38)\n",
      "Innate traits: competent, forbearing, self-discipline, impressionable \n",
      "Linene runs a trading post.. Harbin Wester: Name: Harbin Wester (age: 40)\n",
      "Innate traits: pompous\n",
      "Harbin is the townmaster of Phandalin. A pompous, old food. Phandalin has no functioning government, but the townsfolk elect someone to serve as townmaster each year. The townmaster serves as a judge in minor disputes and keeps any records that need to be kept.\n",
      "# Context from memory:\n",
      "# - [December 08, 2023, 04:24 PM] You are Terrill Bloodscar.You are currently in Phandalin Town Square with the following description: Town square of the town of Phandalin..       It is currently 3:00. The following people are in this area: Toblen Stonehill, Daran Edermath, Linene Graywind, Harbin Wester. You can interact with them. You know the following about people: Toblen Stonehill: Name: Toblen Stonehill (age: 69)\n",
      "Innate traits: mean, gossipy, arrogant, selfish\n",
      "Toblen owns a trading post.. Daran Edermath: Name: Daran Edermath (age: 55)\n",
      "Innate traits: Stubborn, upright, inarticulate, calm\n",
      "Daran is a retired adventurer who lives in a tidy little cottage beside an apple orchard. A fit, silver-haired half-elf well over a hundred years old, Daran is a fighter who served as a marshal and herald for many years in the lands of the Dragon Coast, far to the southeast. Upon retiring, he returned to the Neverwinter region, his original home.. Linene Graywind: Name: Linene Graywind (age: 38)\n",
      "Innate traits: competent, forbearing, self-discipline, impressionable \n",
      "Linene runs a trading post.. Harbin Wester: Name: Harbin Wester (age: 40)\n",
      "Innate traits: pompous\n",
      "Harbin is the townmaster of Phandalin. A pompous, old food. Phandalin has no functioning government, but the townsfolk elect someone to serve as townmaster each year. The townmaster serves as a judge in minor disputes and keeps any records that need to be kept.\n",
      "end\n"
     ]
    },
    {
     "name": "stderr",
     "output_type": "stream",
     "text": [
      "/mnt/iMVR/junde/miniconda3/lib/python3.11/site-packages/transformers/pipelines/base.py:1090: UserWarning: You seem to be using the pipelines sequentially on GPU. In order to maximize efficiency please use a dataset\n",
      "  warnings.warn(\n"
     ]
    },
    {
     "name": "stdout",
     "output_type": "stream",
     "text": [
      "full action logic\n",
      "What do you do?\n",
      "end\n"
     ]
    },
    {
     "name": "stderr",
     "output_type": "stream",
     "text": [
      "/mnt/iMVR/junde/miniconda3/lib/python3.11/site-packages/transformers/pipelines/base.py:1090: UserWarning: You seem to be using the pipelines sequentially on GPU. In order to maximize efficiency please use a dataset\n",
      "  warnings.warn(\n"
     ]
    },
    {
     "name": "stdout",
     "output_type": "stream",
     "text": [
      "action result is:\n",
      " \n",
      "In global time 5\n",
      "Mind Tree of people:  Toblen Stonehill\n"
     ]
    },
    {
     "name": "stderr",
     "output_type": "stream",
     "text": [
      "/mnt/iMVR/junde/miniconda3/lib/python3.11/site-packages/transformers/pipelines/base.py:1090: UserWarning: You seem to be using the pipelines sequentially on GPU. In order to maximize efficiency please use a dataset\n",
      "  warnings.warn(\n",
      "/mnt/iMVR/junde/miniconda3/lib/python3.11/site-packages/transformers/pipelines/base.py:1090: UserWarning: You seem to be using the pipelines sequentially on GPU. In order to maximize efficiency please use a dataset\n",
      "  warnings.warn(\n",
      "/mnt/iMVR/junde/miniconda3/lib/python3.11/site-packages/transformers/generation/utils.py:1262: UserWarning: Input length of input_ids is 4197, but `max_length` is set to 4096. This can lead to unexpected behavior. You should consider increasing `max_new_tokens`.\n",
      "  warnings.warn(\n"
     ]
    },
    {
     "name": "stdout",
     "output_type": "stream",
     "text": [
      "agent_summary_description is: Name: Toblen Stonehill (age: 69)\n",
      "Innate traits: mean, gossipy, arrogant, selfish\n",
      "Toblen owns a trading post.\n",
      "end\n",
      "relevant_mem is: *\n",
      "end\n"
     ]
    },
    {
     "name": "stderr",
     "output_type": "stream",
     "text": [
      "/mnt/iMVR/junde/miniconda3/lib/python3.11/site-packages/transformers/pipelines/base.py:1090: UserWarning: You seem to be using the pipelines sequentially on GPU. In order to maximize efficiency please use a dataset\n",
      "  warnings.warn(\n"
     ]
    },
    {
     "name": "stdout",
     "output_type": "stream",
     "text": [
      "full action logic\n",
      "SAY: \"What can I do for you, Linene?\"\n",
      "end\n"
     ]
    },
    {
     "name": "stderr",
     "output_type": "stream",
     "text": [
      "/mnt/iMVR/junde/miniconda3/lib/python3.11/site-packages/transformers/pipelines/base.py:1090: UserWarning: You seem to be using the pipelines sequentially on GPU. In order to maximize efficiency please use a dataset\n",
      "  warnings.warn(\n"
     ]
    },
    {
     "name": "stdout",
     "output_type": "stream",
     "text": [
      "action result is:\n",
      "Toblen Stonehill said \"What can I do for you, Linene?\"\n",
      "Mind Tree of people:  Daran Edermath\n"
     ]
    },
    {
     "name": "stderr",
     "output_type": "stream",
     "text": [
      "/mnt/iMVR/junde/miniconda3/lib/python3.11/site-packages/transformers/pipelines/base.py:1090: UserWarning: You seem to be using the pipelines sequentially on GPU. In order to maximize efficiency please use a dataset\n",
      "  warnings.warn(\n",
      "/mnt/iMVR/junde/miniconda3/lib/python3.11/site-packages/transformers/pipelines/base.py:1090: UserWarning: You seem to be using the pipelines sequentially on GPU. In order to maximize efficiency please use a dataset\n",
      "  warnings.warn(\n"
     ]
    },
    {
     "name": "stdout",
     "output_type": "stream",
     "text": [
      "agent_summary_description is: Name: Daran Edermath (age: 55)\n",
      "Innate traits: Stubborn, upright, inarticulate, calm\n",
      "Daran is a retired adventurer who lives in a tidy little cottage beside an apple orchard. A fit, silver-haired half-elf well over a hundred years old, Daran is a fighter who served as a marshal and herald for many years in the lands of the Dragon Coast, far to the southeast. Upon retiring, he returned to the Neverwinter region, his original home.\n",
      "end\n",
      "relevant_mem is: * You are in Phandalin Town Square\n",
      "         * The time is currently 5:00 PM\n",
      "         * The following people are in this area: Toblen Stonehill, Linene Graywind, Harbin Wester, Terrill Bloodscar\n",
      "         * You know the following about people: Toblen Stonehill: Name: Toblen Stonehill (age: 69)\n",
      "Innate traits: mean, gossipy, arrogant, selfish\n",
      "Toblen owns a trading post.. Linene Graywind: Name: Linene Graywind (age: 38)\n",
      "Innate traits: competent, forbearing, self-discipline, impressionable \n",
      "Linene runs a trading post.. Harbin Wester: Name: Harbin Wester (age: 40)\n",
      "Innate traits: pompous\n",
      "Harbin is the townmaster of Phandalin. A pompous, old food. Phandalin has no functioning government, but the townsfolk elect someone to serve as townmaster each year. The townmaster serves as a judge in minor disputes and keeps any records that need to be kept.. Terrill Bloodscar: Name: Terrill Bloodscar (age: 16)\n",
      "Innate traits: ignorant\n",
      "Terrill is a human ruffian. He wears a grimy scarlet cloak. He is a member of the Redbrand ruffians. He doesn't like adventurers, and wants to rob and kill them.\n",
      "You can interact with them in the following ways:\n",
      "Toblen Stonehill: You can ask him about the current events in Phandalin, or about the rumors of a dark force stirring in the area.\n",
      "Linene Graywind: You can ask her about the recent trade caravans that have been passing through Phandalin, or about the current market prices for goods.\n",
      "Harbin Wester: You can ask him about the current political climate in Phandalin, or about the recent elections for townmaster.\n",
      "Terrill Bloodscar: You can ask him about the Redbrand ruffians, or about the rumors of a dark force stirring in the area.\n",
      "# Context from memory:\n",
      "# - [December 08, 2023, 04:21 PM] Daran Edermath observed You are Daran Edermath.You are currently in Phandalin Town Square with the following description: Town square of the town of Phandalin..       It is currently 4:00. The following people are in this area: Toblen Stonehill, Linene Graywind, Harbin Wester, Terrill Bloodscar. You can interact with them. You know the following about people: Toblen Stonehill: Name: Toblen Stonehill (age: 69)\n",
      "Innate traits: mean, gossipy, arrogant, selfish\n",
      "end\n"
     ]
    },
    {
     "name": "stderr",
     "output_type": "stream",
     "text": [
      "/mnt/iMVR/junde/miniconda3/lib/python3.11/site-packages/transformers/pipelines/base.py:1090: UserWarning: You seem to be using the pipelines sequentially on GPU. In order to maximize efficiency please use a dataset\n",
      "  warnings.warn(\n"
     ]
    },
    {
     "name": "stdout",
     "output_type": "stream",
     "text": [
      "full action logic\n",
      "What would you like to do?\n",
      "end\n"
     ]
    },
    {
     "name": "stderr",
     "output_type": "stream",
     "text": [
      "/mnt/iMVR/junde/miniconda3/lib/python3.11/site-packages/transformers/pipelines/base.py:1090: UserWarning: You seem to be using the pipelines sequentially on GPU. In order to maximize efficiency please use a dataset\n",
      "  warnings.warn(\n"
     ]
    },
    {
     "name": "stdout",
     "output_type": "stream",
     "text": [
      "action result is:\n",
      " \n",
      "Mind Tree of people:  Linene Graywind\n"
     ]
    },
    {
     "name": "stderr",
     "output_type": "stream",
     "text": [
      "/mnt/iMVR/junde/miniconda3/lib/python3.11/site-packages/transformers/pipelines/base.py:1090: UserWarning: You seem to be using the pipelines sequentially on GPU. In order to maximize efficiency please use a dataset\n",
      "  warnings.warn(\n",
      "/mnt/iMVR/junde/miniconda3/lib/python3.11/site-packages/transformers/pipelines/base.py:1090: UserWarning: You seem to be using the pipelines sequentially on GPU. In order to maximize efficiency please use a dataset\n",
      "  warnings.warn(\n",
      "/mnt/iMVR/junde/miniconda3/lib/python3.11/site-packages/transformers/generation/utils.py:1262: UserWarning: Input length of input_ids is 4224, but `max_length` is set to 4096. This can lead to unexpected behavior. You should consider increasing `max_new_tokens`.\n",
      "  warnings.warn(\n"
     ]
    },
    {
     "name": "stdout",
     "output_type": "stream",
     "text": [
      "agent_summary_description is: Name: Linene Graywind (age: 38)\n",
      "Innate traits: competent, forbearing, self-discipline, impressionable \n",
      "Linene runs a trading post.\n",
      "end\n",
      "relevant_mem is: *\n",
      "end\n"
     ]
    },
    {
     "name": "stderr",
     "output_type": "stream",
     "text": [
      "/mnt/iMVR/junde/miniconda3/lib/python3.11/site-packages/transformers/pipelines/base.py:1090: UserWarning: You seem to be using the pipelines sequentially on GPU. In order to maximize efficiency please use a dataset\n",
      "  warnings.warn(\n"
     ]
    },
    {
     "name": "stdout",
     "output_type": "stream",
     "text": [
      "full action logic\n",
      "What would you like to do?\n",
      "end\n"
     ]
    },
    {
     "name": "stderr",
     "output_type": "stream",
     "text": [
      "/mnt/iMVR/junde/miniconda3/lib/python3.11/site-packages/transformers/pipelines/base.py:1090: UserWarning: You seem to be using the pipelines sequentially on GPU. In order to maximize efficiency please use a dataset\n",
      "  warnings.warn(\n"
     ]
    },
    {
     "name": "stdout",
     "output_type": "stream",
     "text": [
      "action result is:\n",
      " \n",
      "Mind Tree of people:  Harbin Wester\n"
     ]
    },
    {
     "name": "stderr",
     "output_type": "stream",
     "text": [
      "/mnt/iMVR/junde/miniconda3/lib/python3.11/site-packages/transformers/pipelines/base.py:1090: UserWarning: You seem to be using the pipelines sequentially on GPU. In order to maximize efficiency please use a dataset\n",
      "  warnings.warn(\n",
      "/mnt/iMVR/junde/miniconda3/lib/python3.11/site-packages/transformers/pipelines/base.py:1090: UserWarning: You seem to be using the pipelines sequentially on GPU. In order to maximize efficiency please use a dataset\n",
      "  warnings.warn(\n"
     ]
    },
    {
     "name": "stdout",
     "output_type": "stream",
     "text": [
      "agent_summary_description is: Name: Harbin Wester (age: 40)\n",
      "Innate traits: pompous\n",
      "Harbin is the townmaster of Phandalin. A pompous, old food. Phandalin has no functioning government, but the townsfolk elect someone to serve as townmaster each year. The townmaster serves as a judge in minor disputes and keeps any records that need to be kept.\n",
      "end\n",
      "relevant_mem is: Innate traits: mean, gossipy, arrogant, selfish\n",
      "Toblen Stonehill: Name: Toblen Stonehill (age: 69)\n",
      "Innate traits: mean, gossipy, arrogant, selfish\n",
      "Daran Edermath: Name: Daran Edermath (age: 55)\n",
      "Innate traits: Stubborn, upright, inarticulate, calm\n",
      "Linene Graywind: Name: Linene Graywind (age: 38)\n",
      "Innate traits: competent, forbearing, self-discipline, impressionable\n",
      "Terrill Bloodscar: Name: Terrill Bloodscar (age: 16)\n",
      "Innate traits: ignorant\n",
      "\n",
      "You can interact with them by\n",
      "end\n"
     ]
    },
    {
     "name": "stderr",
     "output_type": "stream",
     "text": [
      "/mnt/iMVR/junde/miniconda3/lib/python3.11/site-packages/transformers/pipelines/base.py:1090: UserWarning: You seem to be using the pipelines sequentially on GPU. In order to maximize efficiency please use a dataset\n",
      "  warnings.warn(\n"
     ]
    },
    {
     "name": "stdout",
     "output_type": "stream",
     "text": [
      "full action logic\n",
      "Please let me know if you need any further clarification.\n",
      "end\n"
     ]
    },
    {
     "name": "stderr",
     "output_type": "stream",
     "text": [
      "/mnt/iMVR/junde/miniconda3/lib/python3.11/site-packages/transformers/pipelines/base.py:1090: UserWarning: You seem to be using the pipelines sequentially on GPU. In order to maximize efficiency please use a dataset\n",
      "  warnings.warn(\n"
     ]
    },
    {
     "name": "stdout",
     "output_type": "stream",
     "text": [
      "action result is:\n",
      " \n",
      "Mind Tree of people:  Terrill Bloodscar\n"
     ]
    },
    {
     "name": "stderr",
     "output_type": "stream",
     "text": [
      "/mnt/iMVR/junde/miniconda3/lib/python3.11/site-packages/transformers/pipelines/base.py:1090: UserWarning: You seem to be using the pipelines sequentially on GPU. In order to maximize efficiency please use a dataset\n",
      "  warnings.warn(\n",
      "/mnt/iMVR/junde/miniconda3/lib/python3.11/site-packages/transformers/pipelines/base.py:1090: UserWarning: You seem to be using the pipelines sequentially on GPU. In order to maximize efficiency please use a dataset\n",
      "  warnings.warn(\n"
     ]
    },
    {
     "name": "stdout",
     "output_type": "stream",
     "text": [
      "agent_summary_description is: Name: Terrill Bloodscar (age: 16)\n",
      "Innate traits: ignorant\n",
      "Terrill is a human ruffian. He wears a grimy scarlet cloak. He is a member of the Redbrand ruffians. He doesn't like adventurers, and wants to rob and kill them.\n",
      "end\n",
      "relevant_mem is: 1. You are Terrill Bloodscar.\n",
      "        2. You are in Phandalin Town Square.\n",
      "        3. It is currently 4:00 PM.\n",
      "        4. The following people are in this area: Toblen Stonehill, Daran Edermath, Linene Graywind, Harbin Wester.\n",
      "        5. You know the following about people: Toblen Stonehill: Name: Toblen Stonehill (age: 69)\n",
      "Innate traits: mean, gossipy, arrogant, selfish\n",
      "Toblen owns a trading post.. Daran Edermath: Name: Daran Edermath (age: 55)\n",
      "Innate traits: Stubborn, upright, inarticulate, calm\n",
      "Daran is a retired adventurer who lives in a tidy little cottage beside an apple\n",
      "end\n"
     ]
    },
    {
     "name": "stderr",
     "output_type": "stream",
     "text": [
      "/mnt/iMVR/junde/miniconda3/lib/python3.11/site-packages/transformers/pipelines/base.py:1090: UserWarning: You seem to be using the pipelines sequentially on GPU. In order to maximize efficiency please use a dataset\n",
      "  warnings.warn(\n"
     ]
    },
    {
     "name": "stdout",
     "output_type": "stream",
     "text": [
      "full action logic\n",
      "Terrill Bloodscar's status: chating with Redbrand ruffians members, secretly planing the robbery.\n",
      "\n",
      "Terrill Bloodscar's reaction:\n",
      "REACT: Terrill Bloodscar's eyes narrow as he listens to the townsfolk's conversation, his mind racing with potential schemes.\n",
      "end\n"
     ]
    },
    {
     "name": "stderr",
     "output_type": "stream",
     "text": [
      "/mnt/iMVR/junde/miniconda3/lib/python3.11/site-packages/transformers/pipelines/base.py:1090: UserWarning: You seem to be using the pipelines sequentially on GPU. In order to maximize efficiency please use a dataset\n",
      "  warnings.warn(\n"
     ]
    },
    {
     "name": "stdout",
     "output_type": "stream",
     "text": [
      "action result is:\n",
      "Terrill Bloodscar Terrill Bloodscar's eyes narrow as he listens to the townsfolk's conversation, his mind racing with potential schemes.\n"
     ]
    }
   ],
   "source": [
    "global_time = 0\n",
    "for repeats in range(5):\n",
    "  global_time += 1\n",
    "  print(\"In global time\", global_time)\n",
    "  action_prompts = {}\n",
    "  action_results = {}\n",
    "  for location in town_areas.keys():\n",
    "    people = []\n",
    "    for i in town_people.keys():\n",
    "      if locations[i] == location:\n",
    "        people.append(i)\n",
    "    \n",
    "    # for name in people:\n",
    "      # prompt = \"You are {}. Your plans are: {}. You are currently in {} with the following description: {}. Your memories are: {}. It is currently {}:00. The following people are in this area: {}. You can interact with them.\".format(name, plans[name], location, town_areas[location], '\\n'.join(compressed_memories_all[name][-5:]), str(global_time), ', '.join(people))\n",
    "    people_description = []\n",
    "    for i in people: \n",
    "      if i not in action_results: # initialize action results as the observations\n",
    "        action_results[i] = agents[i].get_summary(force_refresh=False)\n",
    "      people_description.append(i+': '+ action_results[i])\n",
    "\n",
    "\n",
    "    for i in people: # add observation to memory and react\n",
    "      print(\"Mind Tree of people: \", i)\n",
    "\n",
    "      others = [x for x in people if x != i]\n",
    "      observation = \"You are {}.You are currently in {} with the following description: {}. \\\n",
    "      It is currently {}:00. The following people are in this area: {}. You can interact with them.\". \\\n",
    "      format(i, location, town_areas[location], str(global_time), ', '.join(others))\n",
    "\n",
    "      others_des = [x for x in people_description if i+': ' not in x]\n",
    "      observation += ' You know the following about people: ' + '. '.join(others_des)\n",
    "\n",
    "      # print(\"for people\", i)\n",
    "      # print(\"the observation is:\", observation)\n",
    "\n",
    "      agents[i].memory.add_memory(observation)\n",
    "      _, reaction = agents[i].generate_reaction(observation)\n",
    "      action_results[i] = reaction\n",
    "\n",
    "      print(\"action result is:\")\n",
    "      print(reaction)"
   ]
  }
 ],
 "metadata": {
  "kernelspec": {
   "display_name": "base",
   "language": "python",
   "name": "python3"
  },
  "language_info": {
   "codemirror_mode": {
    "name": "ipython",
    "version": 3
   },
   "file_extension": ".py",
   "mimetype": "text/x-python",
   "name": "python",
   "nbconvert_exporter": "python",
   "pygments_lexer": "ipython3",
   "version": "3.11.5"
  },
  "orig_nbformat": 4
 },
 "nbformat": 4,
 "nbformat_minor": 2
}
